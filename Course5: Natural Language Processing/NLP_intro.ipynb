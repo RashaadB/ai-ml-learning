{
 "cells": [
  {
   "cell_type": "markdown",
   "id": "534edd3c",
   "metadata": {},
   "source": [
    "## Intro to Natural Language Processing\n",
    "- Natural language referes to the language used by humans for communitcation, which includes spoken and written forms of communitcation. \n",
    "- A natural language spontaneously develops in human communities through organic processes like usage, repetition, and evolution. \n",
    "- this evolution occurs without intentional planning or premeditation. \n",
    "\n",
    "## what is NLP\n",
    "- Natural Language processing(NLP) is a specialized branch of AI that focuses on interactions between computers and human language. \n",
    "- The primary goal of NLP is to enable machines to understand, interpret, and generate human like text\n",
    "- This enables effective communication between people and computers\n",
    "\n",
    "- NLP processing integrates computational linguistics and machine learning techniques. This combination is used to analyze the intricate components of language. \n",
    "\n",
    "## Levels of NLP\n",
    "\n",
    "- NPL techniques use different linguistic levels for comprehending and utilizing language, providing an explanatory method for NLP systems.\n",
    "- lexical\n",
    "- Syntax\n",
    "- Semantics\n",
    "- Discourse integration\n",
    "- Pragmatics\n",
    "\n",
    "## NLP processing components\n",
    "- Natural language processing is often used as an umbrella term for:\n",
    "\n",
    "    - Natural language understanding (NLU): interprets intent behind the input text\n",
    "    - Dialog management (DM): Determines the actual context of the dialogue and offers state and flow of the dialog to make the conversation human like\n",
    "    - Natural language generator (NLG): Focuses on text generation, or the construction of text\n",
    "\n",
    "## Real world application of NLP\n",
    "- sentiment analysis: involves determining the sentiment expressed in a piece of text\n",
    "- text classification: involves categorizing or assigning predefined labels to text documents based on their content\n",
    "- speech recognition: is a technology that converts spoken language into written text\n",
    "- language modelling: involves predicting the probability distribution of a sequence of words in a given language. \n",
    "-chatbots and virtual assistants: are applications that use NLP and AI technologies to engage in conversations and provide information or perform tasks for users. \n",
    "\n",
    "## Models for NLP processing\n",
    "- BERT\n",
    "- ELMO\n",
    "- RoBERTa\n",
    "- XLNet\n",
    "- ChatGPT-3\n",
    "\n",
    "## Challenges in NLP\n",
    "- though NLP has made notable progress, there are still several challenges that exist in the field\n",
    "    - Ambiguity: understanding language can be challenging due to the ambiguity of workds, which can have multiple meanings. like trying to figure out what someone means by NLP\n",
    "\n",
    "    - Language variability: Variation in languages across dialects and accents pose challenge in developing an NLP model. the limited usage of certain languages is also a significant challenge in the implementatation of NLP\n",
    "\n",
    "    - Scarcasm and irony: machines have challenges dealing with intricate mechanisms of human language, recgnizing sarcasm or irony\n",
    "\n",
    "    - Lack of contextual understanding: words can vary in meaning based on context, and many words can mean different things depending on how you use them.\n"
   ]
  }
 ],
 "metadata": {
  "language_info": {
   "name": "python"
  }
 },
 "nbformat": 4,
 "nbformat_minor": 5
}
