{
 "cells": [
  {
   "cell_type": "markdown",
   "id": "1a588b3d",
   "metadata": {},
   "source": []
  },
  {
   "cell_type": "code",
   "execution_count": null,
   "id": "a71dc996",
   "metadata": {
    "vscode": {
     "languageId": "plaintext"
    }
   },
   "outputs": [],
   "source": [
    "# for x in range(5):\n",
    "    # print(type(x))\n",
    "    # print(type(5))\n",
    "    # print(type(range(5)))\n",
    "\n",
    "# Iterable\n",
    "for x in \"Python\": #for iterates over each letter in \"Python\"\n",
    "    print(x)\n",
    "\n",
    "#Iterate over a list of numbers or strings\n",
    "for x in [1,2,3,4]:\n",
    "    print(x)\n",
    "\n",
    "for x in ['hello','world','Rashaad']:\n",
    "    print(x)"
   ]
  }
 ],
 "metadata": {
  "language_info": {
   "name": "python"
  }
 },
 "nbformat": 4,
 "nbformat_minor": 5
}
