{
 "cells": [
  {
   "cell_type": "markdown",
   "id": "8c1be0aa",
   "metadata": {},
   "source": []
  },
  {
   "cell_type": "code",
   "execution_count": null,
   "id": "ec5f7edd",
   "metadata": {},
   "outputs": [],
   "source": [
    "# age should be between 18 and 65\n",
    "age = 66\n",
    "# if age >= 18 and age <= 65:\n",
    "#     message = 'right in between'\n",
    "# elif age < 18:\n",
    "#     message = 'you are too young'\n",
    "# else:\n",
    "#     message = 'too old, sorry.'\n",
    "if 18 <= age <= 65:\n",
    "    message = 'right in between'\n",
    "elif age < 18 or age > 65:\n",
    "    message = 'you either too old, or too young. Sorry'\n",
    "print(message\n",
    "      )"
   ]
  }
 ],
 "metadata": {
  "kernelspec": {
   "display_name": "Python 3",
   "language": "python",
   "name": "python3"
  },
  "language_info": {
   "name": "python",
   "version": "3.13.2"
  }
 },
 "nbformat": 4,
 "nbformat_minor": 5
}
