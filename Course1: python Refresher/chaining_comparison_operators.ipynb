{
 "cells": [
  {
   "cell_type": "code",
   "execution_count": 1,
   "id": "ec5f7edd",
   "metadata": {},
   "outputs": [
    {
     "name": "stdout",
     "output_type": "stream",
     "text": [
      "you either too old, or too young. Sorry\n"
     ]
    }
   ],
   "source": [
    "# age should be between 18 and 65\n",
    "age = 66\n",
    "# if age >= 18 and age <= 65:\n",
    "#     message = 'right in between'\n",
    "# elif age < 18:\n",
    "#     message = 'you are too young'\n",
    "# else:\n",
    "#     message = 'too old, sorry.'\n",
    "if 18 <= age <= 65:\n",
    "    message = 'right in between'\n",
    "elif age < 18 or age > 65:\n",
    "    message = 'you either too old, or too young. Sorry'\n",
    "print(message\n",
    "      )"
   ]
  }
 ],
 "metadata": {
  "kernelspec": {
   "display_name": "Python 3",
   "language": "python",
   "name": "python3"
  },
  "language_info": {
   "codemirror_mode": {
    "name": "ipython",
    "version": 3
   },
   "file_extension": ".py",
   "mimetype": "text/x-python",
   "name": "python",
   "nbconvert_exporter": "python",
   "pygments_lexer": "ipython3",
   "version": "3.13.2"
  }
 },
 "nbformat": 4,
 "nbformat_minor": 5
}
