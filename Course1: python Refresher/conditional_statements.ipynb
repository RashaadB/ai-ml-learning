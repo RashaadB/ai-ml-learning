{
 "cells": [
  {
   "cell_type": "code",
   "execution_count": null,
   "id": "e532150a",
   "metadata": {},
   "outputs": [
    {
     "name": "stdout",
     "output_type": "stream",
     "text": [
      "> \u001b[32m/var/folders/9d/7216hsv562lbddcy7qb278zc0000gp/T/ipykernel_22295/922435786.py\u001b[39m(\u001b[92m3\u001b[39m)\u001b[36m<module>\u001b[39m\u001b[34m()\u001b[39m\n",
      "\u001b[32m      2\u001b[39m \u001b[38;5;28;01mimport\u001b[39;00m ipdb\n",
      "\u001b[32m----> 3\u001b[39m ipdb.set_trace()\n",
      "\u001b[32m      4\u001b[39m \u001b[38;5;28;01mif\u001b[39;00m temperature > \u001b[32m70\u001b[39m:\n",
      "\n"
     ]
    }
   ],
   "source": [
    "temperature = 14\n",
    "import ipdb\n",
    "if temperature > 70:\n",
    "    print('its warm')\n",
    "    print('go outside')\n",
    "elif temperature > 50:\n",
    "    print('not too cold')\n",
    "else:\n",
    "    print('too cold outside')\n",
    "print('done')\n"
   ]
  }
 ],
 "metadata": {
  "kernelspec": {
   "display_name": "Python 3",
   "language": "python",
   "name": "python3"
  },
  "language_info": {
   "codemirror_mode": {
    "name": "ipython",
    "version": 3
   },
   "file_extension": ".py",
   "mimetype": "text/x-python",
   "name": "python",
   "nbconvert_exporter": "python",
   "pygments_lexer": "ipython3",
   "version": "3.13.2"
  }
 },
 "nbformat": 4,
 "nbformat_minor": 5
}
