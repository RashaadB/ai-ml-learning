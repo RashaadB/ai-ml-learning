{
 "cells": [
  {
   "cell_type": "markdown",
   "id": "fd910ea1",
   "metadata": {},
   "source": []
  },
  {
   "cell_type": "code",
   "execution_count": null,
   "id": "e532150a",
   "metadata": {
    "vscode": {
     "languageId": "plaintext"
    }
   },
   "outputs": [],
   "source": [
    "temperature = 14\n",
    "import ipdb\n",
    "ipdb.set_trace()\n",
    "if temperature > 70:\n",
    "    print('its warm')\n",
    "    print('go outside')\n",
    "elif temperature > 50:\n",
    "    print('not too cold')\n",
    "else:\n",
    "    print('too cold outside')\n",
    "print('done')\n"
   ]
  }
 ],
 "metadata": {
  "language_info": {
   "name": "python"
  }
 },
 "nbformat": 4,
 "nbformat_minor": 5
}
