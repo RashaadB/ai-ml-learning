{
 "cells": [
  {
   "cell_type": "markdown",
   "id": "1532ac85",
   "metadata": {},
   "source": []
  },
  {
   "cell_type": "code",
   "execution_count": null,
   "id": "2e6cbd60",
   "metadata": {
    "vscode": {
     "languageId": "plaintext"
    }
   },
   "outputs": [],
   "source": [
    "age = 22\n",
    "# if age >= 18:\n",
    "#     message = 'Eligible'\n",
    "# else:\n",
    "#     message = 'Not eligible'\n",
    "# print(message)\n",
    "message = 'Eligible' if age >= 18 else 'Not eligible'\n",
    "print(message)"
   ]
  }
 ],
 "metadata": {
  "language_info": {
   "name": "python"
  }
 },
 "nbformat": 4,
 "nbformat_minor": 5
}
