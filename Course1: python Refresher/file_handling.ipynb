{
 "cells": [
  {
   "cell_type": "markdown",
   "id": "ec70c754",
   "metadata": {},
   "source": [
    "# Reading a File:\n",
    "# This opens example.txt in read mode ('r') and reads the entire content of the file into a string variable named content."
   ]
  },
  {
   "cell_type": "code",
   "execution_count": null,
   "id": "46c5316f",
   "metadata": {
    "vscode": {
     "languageId": "plaintext"
    }
   },
   "outputs": [],
   "source": [
    "file = open('example.txt', 'r')\n",
    "content = file.read()\n",
    "print(content)\n",
    "file.close\n",
    "\n",
    "# Writing to a file\n",
    "file = open('example.txt', 'w')\n",
    "file.write(\"This will overwrite existing content or create a new file if it doesn't exist.\")\n",
    "print(file)\n",
    "file.close\n",
    "\n",
    "# appending to a file\n",
    "file = open('example.txt', 'a')\n",
    "file.write(\"This will be appended to the end of the file.\")\n",
    "file.close()\n",
    "\n",
    "# Reading line by line\n",
    "file = open('example.txt', 'r')\n",
    "line = file.readline()\n",
    "while line:\n",
    "    print(line.strip())  # using strip() to remove the newline character at the end\n",
    "    line = file.readline()\n",
    "file.close()\n",
    "\n",
    "# Reading All Lines\n",
    "file = open('example.txt', 'r')\n",
    "lines = file.readlines()\n",
    "print(lines)  # prints all the lines as a list\n",
    "file.close()\n",
    "\n",
    "# Writing Strings and Closing the File\n",
    "# Open the file in write mode\n",
    "file = open('example.txt', 'w')\n",
    "\n",
    "# Writing a string to the file\n",
    "file.write('Hi How Are You!\\n')\n",
    "\n",
    "# Writing a list of strings to the file\n",
    "lines = ['First line\\n', 'Second line\\n']\n",
    "file.writelines(lines)\n",
    "\n",
    "# Closing the file\n",
    "file.close()\n",
    "\n",
    "# Now, let's open the file again in read mode to print out its content\n",
    "file = open('example.txt', 'r')\n",
    "content = file.read()\n",
    "print(content)\n",
    "file.close()"
   ]
  }
 ],
 "metadata": {
  "language_info": {
   "name": "python"
  }
 },
 "nbformat": 4,
 "nbformat_minor": 5
}
