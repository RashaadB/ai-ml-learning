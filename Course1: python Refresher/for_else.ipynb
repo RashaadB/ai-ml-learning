{
 "cells": [
  {
   "cell_type": "markdown",
   "id": "3e15b1ae",
   "metadata": {},
   "source": [
    "if condition is met, break statement will not loop through after condition is met even\n",
    "        eventhough there is a range arugment of 3"
   ]
  },
  {
   "cell_type": "code",
   "execution_count": null,
   "id": "679d5bb7",
   "metadata": {
    "vscode": {
     "languageId": "plaintext"
    }
   },
   "outputs": [],
   "source": [
    "# for else\n",
    "successful = True\n",
    "\n",
    "for number in range(3):\n",
    "    message = 'attempting to send message'\n",
    "    print(message)\n",
    "    if successful:\n",
    "        message= 'message sent'\n",
    "        print(message)\n",
    "        break\n",
    "else:\n",
    "    message = 'attempted 3 times, try again later'\n",
    "    print(message)\n",
    " "
   ]
  }
 ],
 "metadata": {
  "language_info": {
   "name": "python"
  }
 },
 "nbformat": 4,
 "nbformat_minor": 5
}
