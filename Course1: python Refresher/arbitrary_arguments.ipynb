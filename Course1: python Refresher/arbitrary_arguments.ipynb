{
 "cells": [
  {
   "cell_type": "markdown",
   "id": "9fb26173",
   "metadata": {},
   "source": [
    "non-Keyword arbitrary argument(*args)\n",
    "The function total is designed to accept a variable number of non-keyword arguments using *args.\n",
    "The *args parameter allows the function to take any number of arguments, which are passed as a tuple.\n",
    "You can then iterate over them using a for loop."
   ]
  },
  {
   "cell_type": "code",
   "execution_count": null,
   "id": "001fd017",
   "metadata": {},
   "outputs": [],
   "source": [
    "# Define the function 'total' which takes a variable number of non-keyword arguments\n",
    "def total(*args):\n",
    "    # Initialize a variable 'tot' to store the total\n",
    "    tot = 0\n",
    "    # Iterate over the arguments and add each to 'tot'\n",
    "    for n in args:\n",
    "        tot += n\n",
    "    # Print the total\n",
    "    # print(tot)\n",
    "\n",
    "# Call the 'total' function with two arguments: 23 and 67\n",
    "total(3, 2)\n",
    "total(10, 10, 10, 10, 10)\n"
   ]
  },
  {
   "cell_type": "markdown",
   "id": "b7039149",
   "metadata": {},
   "source": [
    "- Keyword arbitrary argument\n",
    "The function information is designed to accept a variable number of keyword arguments using **kwargs.\n",
    "The **kwargs parameter allows the function to take any number of keyword arguments.\n",
    "These arguments are passed as a dictionary, where the keys are the parameter names and the values are the corresponding argument values.\n",
    "The function uses a for loop to iterate over the dictionary keys and prints each key-value pair."
   ]
  },
  {
   "cell_type": "code",
   "execution_count": null,
   "id": "168f3c76",
   "metadata": {},
   "outputs": [],
   "source": [
    "# Define the function 'information' which takes a variable number of keyword arguments\n",
    "def information(**kwargs):\n",
    "    # Iterate over the keyword arguments and print each key-value pair\n",
    "    for key in kwargs.keys():\n",
    "        print(key, \":\", kwargs[key])\n",
    "\n",
    "# Call the 'information' function with 'name' and 'age' as keyword arguments\n",
    "# information(brand = 'honda', spec = 'type-r.')\n",
    "information(name = 'Rashaad', car = 'Honda',spec = \"Type-R\" ,Fiance = \"MM\")"
   ]
  }
 ],
 "metadata": {
  "kernelspec": {
   "display_name": "Python 3",
   "language": "python",
   "name": "python3"
  },
  "language_info": {
   "name": "python",
   "version": "3.13.2"
  }
 },
 "nbformat": 4,
 "nbformat_minor": 5
}
