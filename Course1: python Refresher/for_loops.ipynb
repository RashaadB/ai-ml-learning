{
 "cells": [
  {
   "cell_type": "markdown",
   "id": "295eaefe",
   "metadata": {},
   "source": []
  },
  {
   "cell_type": "code",
   "execution_count": null,
   "id": "fe4a4e5f",
   "metadata": {
    "vscode": {
     "languageId": "plaintext"
    }
   },
   "outputs": [],
   "source": [
    "# print('sending a message')\n",
    "# print('sending a message')\n",
    "# print('sending a message')\n",
    "# print('sending a message')\n",
    "# print('sending a message')\n",
    "# print('sending a message')\n",
    "\n",
    "for number in range(6):\n",
    "    message = 'send a message'\n",
    "    print(message, number + 1, (number + 1) * '.')\n",
    "\n",
    "for number in range(1, 4):\n",
    "    message = 'send a message'\n",
    "    print(message, number, number * '.')\n",
    "\n",
    "for number in range(1, 10, 2):\n",
    "    message = 'send a message'\n",
    "    print(message, number, number * '.')"
   ]
  }
 ],
 "metadata": {
  "language_info": {
   "name": "python"
  }
 },
 "nbformat": 4,
 "nbformat_minor": 5
}
