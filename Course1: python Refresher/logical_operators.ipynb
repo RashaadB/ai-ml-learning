{
 "cells": [
  {
   "cell_type": "markdown",
   "id": "4a8ff1b0",
   "metadata": {},
   "source": []
  },
  {
   "cell_type": "code",
   "execution_count": null,
   "id": "ec4be994",
   "metadata": {
    "vscode": {
     "languageId": "plaintext"
    }
   },
   "outputs": [],
   "source": [
    "# logical operators\n",
    "# and both conditions have to be met\n",
    "# or either condition can be met\n",
    "# not looking for conditions not present\n",
    "high_income = True\n",
    "good_credit = True\n",
    "student = False\n",
    "if high_income and good_credit:\n",
    "    print('Eligible')\n",
    "else:\n",
    "    print('Not eligible')\n",
    "\n",
    "if (high_income or good_credit) and not student:\n",
    "    print('Eligible')\n",
    "else:\n",
    "    print('Not eligible')\n"
   ]
  }
 ],
 "metadata": {
  "language_info": {
   "name": "python"
  }
 },
 "nbformat": 4,
 "nbformat_minor": 5
}
