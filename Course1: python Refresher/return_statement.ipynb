{
 "cells": [
  {
   "cell_type": "markdown",
   "id": "87c771fc",
   "metadata": {},
   "source": [
    "# return Statement\n",
    "\n",
    "# 1. Without a return Statement\n",
    "# Define the function net_amount\n",
    "# The function calculates the discount amount (disc) based on the percentage of the discount.\n",
    "# Next, it calculates the tax amount (tax_amnt) based on the remaining amount after applying the discount.\n",
    "# Finally, it computes the net amount (net) by adding the discounted amount and the tax amount.\n",
    "# The net amount is printed, rounded to two decimal places."
   ]
  },
  {
   "cell_type": "code",
   "execution_count": null,
   "id": "9ab7a6b4",
   "metadata": {
    "vscode": {
     "languageId": "plaintext"
    }
   },
   "outputs": [],
   "source": [
    "# Define the function 'net_amount' which calculates the net amount after applying tax and discount\n",
    "def net_amount(Amount, tax= 18, discount = 10):\n",
    "    # Calculate the discount amount\n",
    "    disc = (Amount * discount / 100)\n",
    "    # Calculate the tax amount on the discounted amount\n",
    "    tax_amnt = (Amount - disc) * tax / 100\n",
    "    # Calculate the net amount\n",
    "    net = (Amount - disc) + tax_amnt\n",
    "    # Print the net amount rounded to 2 decimal places\n",
    "    print(round(net, 2))\n",
    "\n",
    "# Take user input\n",
    "# The user is prompted to enter values for the bill amount, tax percentage, and discount percentage.\n",
    "\n",
    "# Take user input for the bill amount\n",
    "amnt = float(input('Please enter the bill amount '))\n",
    "# Take user input for the tax percentage\n",
    "tax = float(input('Please enter tax percentage :'))\n",
    "# Take user input for the discount percentage\n",
    "discount = float(input('Please enter discount percentage :'))\n",
    "\n",
    "# Call the function \n",
    "# The function is called using the user inputs.\n",
    "# Since the function doesn’t explicitly return a value (None is returned implicitly), calling print(return_value) will output None.\n",
    "\n",
    "# Call the 'net_amount' function with user inputs and store the return value\n",
    "return_value = net_amount(amnt, tax, discount)\n",
    "# Print the return value (None in this case because 'net_amount' does not return anything)\n",
    "print(return_value)\n",
    "\n",
    "# 2. Define the Function with a return Statement\n",
    "# The main difference in this version is that instead of printing the net amount, the function returns it.\n",
    "# This allows the calling function or script to store and use the returned value as needed.\n",
    "# Define the function 'net_amount' which calculates the net amount after applying tax and discount\n",
    "def net_amount(Amount, tax= 18, discount = 10):\n",
    "    # Calculate the discount amount\n",
    "    disc = (Amount * discount / 100)\n",
    "    # Calculate the tax amount on the discounted amount\n",
    "    tax_amnt = (Amount - disc) * tax / 100\n",
    "    # Calculate the net amount\n",
    "    net = (Amount - disc) + tax_amnt\n",
    "    # Return the net amount\n",
    "    return net\n",
    "# The user inputs are taken for the bill amount, tax, and discount.\n",
    "# Take user input for the bill amount\n",
    "amnt = float(input('Please enter the bill amount '))\n",
    "# Take user input for the tax percentage\n",
    "tax = float(input('Please enter tax percentage :'))\n",
    "# Take user input for the discount percentage\n",
    "discount = float(input('Please enter discount percentage :'))\n",
    "\n",
    "# Call the 'net_amount' function with user inputs and store the return value\n",
    "return_value = net_amount(amnt, tax, discount)\n",
    "\n",
    "# Print the total amount to be paid\n",
    "print('Total Amount to be paid : ', return_value)"
   ]
  }
 ],
 "metadata": {
  "language_info": {
   "name": "python"
  }
 },
 "nbformat": 4,
 "nbformat_minor": 5
}
