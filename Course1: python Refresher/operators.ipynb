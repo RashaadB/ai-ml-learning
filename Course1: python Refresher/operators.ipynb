{
 "cells": [
  {
   "cell_type": "markdown",
   "id": "bc7cc786",
   "metadata": {},
   "source": []
  },
  {
   "cell_type": "code",
   "execution_count": null,
   "id": "0cfd684c",
   "metadata": {
    "vscode": {
     "languageId": "plaintext"
    }
   },
   "outputs": [],
   "source": [
    "# Comperison operators with numbers\n",
    "10 > 3\n",
    "10 >= 3\n",
    "10 < 20\n",
    "10 <= 20\n",
    "10 == 10\n",
    "10 == '10'  # False equals to#\n",
    "10 != '10'  # True is not equal to#\n",
    "\n",
    "# Comperison operators with strings\n",
    "\"bag\" > \"apple\"  # True, bag comes after apple in alphabet\n",
    "\"bag\" == \"BAG\"  # False, each letter has an Id in python\n",
    "print(ord('b'), ord('B'))  # 'b' id:98, 'B' id:66"
   ]
  }
 ],
 "metadata": {
  "language_info": {
   "name": "python"
  }
 },
 "nbformat": 4,
 "nbformat_minor": 5
}
