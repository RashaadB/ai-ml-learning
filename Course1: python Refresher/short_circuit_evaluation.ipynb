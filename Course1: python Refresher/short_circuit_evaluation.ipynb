{
 "cells": [
  {
   "cell_type": "markdown",
   "id": "4d110be4",
   "metadata": {},
   "source": []
  },
  {
   "cell_type": "code",
   "execution_count": null,
   "id": "9ed3bb3b",
   "metadata": {
    "vscode": {
     "languageId": "plaintext"
    }
   },
   "outputs": [],
   "source": [
    "# Short circuit\n",
    "high_income = False\n",
    "good_credit = True\n",
    "student = True\n",
    "# The evaluation stops as soon as at least one of the expressions are false or conditions are met\n",
    "if high_income and good_credit and not student:\n",
    "    print('Eligible')\n",
    "else:\n",
    "    print('Not eligible')\n",
    "\n",
    "if high_income or good_credit or not student:\n",
    "    print('Eligible')"
   ]
  }
 ],
 "metadata": {
  "language_info": {
   "name": "python"
  }
 },
 "nbformat": 4,
 "nbformat_minor": 5
}
