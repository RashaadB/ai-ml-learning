{
 "cells": [
  {
   "cell_type": "markdown",
   "id": "8c5abcd0",
   "metadata": {},
   "source": []
  },
  {
   "cell_type": "code",
   "execution_count": null,
   "id": "e8cc5fc2",
   "metadata": {
    "vscode": {
     "languageId": "plaintext"
    }
   },
   "outputs": [],
   "source": [
    " #nested loop\n",
    "#loops inside of other loops\n",
    "\n",
    "for x in range(2): #outter loop starts at 0, loops through 2 times\n",
    "    for y in range(2): #inner loop counts times x loops through 0, starting at index 0\n",
    "        print(f'\"({x},{y})\"')"
   ]
  }
 ],
 "metadata": {
  "language_info": {
   "name": "python"
  }
 },
 "nbformat": 4,
 "nbformat_minor": 5
}
