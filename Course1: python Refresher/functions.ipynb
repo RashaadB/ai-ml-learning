{
 "cells": [
  {
   "cell_type": "markdown",
   "id": "e0d4f5b7",
   "metadata": {},
   "source": []
  },
  {
   "cell_type": "code",
   "execution_count": null,
   "id": "4e5b301a",
   "metadata": {
    "vscode": {
     "languageId": "plaintext"
    }
   },
   "outputs": [],
   "source": [
    "# functions.py\n",
    "def greet(first_name, last_name):\n",
    "    print(f\"hello {first_name} {last_name}\" )\n",
    "    # print(f'welcome here {last_name}')\n",
    "\n",
    "\n",
    "greet(\"Rashaad\",\"Bracley\")\n",
    "\n",
    "def get_greeting(first_name):\n",
    "    return f\"hello{first_name}\"\n",
    "\n",
    "# message = get_greeting(\"Rashaad\")\n",
    "# file = open(\"context.txt\", \"w\")\n",
    "# file.write(message)\n",
    "\n",
    "def increment(number, by):\n",
    "    return number + by\n",
    "\n",
    "\n",
    "print(increment(2,by=1))\n",
    "\n",
    "def multiply(*numbers):\n",
    "    total = 1\n",
    "    for number in numbers:\n",
    "        total *= number\n",
    "    return(numbers)\n",
    "\n",
    "multiply(2,3,4,5)"
   ]
  }
 ],
 "metadata": {
  "language_info": {
   "name": "python"
  }
 },
 "nbformat": 4,
 "nbformat_minor": 5
}
