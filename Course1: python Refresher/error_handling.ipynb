{
 "cells": [
  {
   "cell_type": "markdown",
   "id": "4257a920",
   "metadata": {},
   "source": [
    "\n",
    "We will create a program that asks the user to enter a file name. The program will try to open the file and read its contents and display them. If the file does not exist, the program will catch the error and inform the user that the file was not found. Regardless of whether the file was found or not, the program will always close the file at the end.\n",
    "\n",
    "\n",
    "try block: Attempts to open the file and read it\n",
    "except FileNotFoundError: Catches the error when the file doesn't exist and handles it gracefully\n",
    "finally block: Ensures that the file is closed if it was opened or informs the user if the file was never opened.\"\"\""
   ]
  },
  {
   "cell_type": "code",
   "execution_count": null,
   "id": "fde4077f",
   "metadata": {
    "vscode": {
     "languageId": "plaintext"
    }
   },
   "outputs": [],
   "source": [
    "def file_demo():\n",
    "    try:\n",
    "        # Ask the user for the file name\n",
    "        file_name = input(\"Enter the file name: \")\n",
    "\n",
    "        # Try to open the file and read its content\n",
    "        file = open(file_name, 'r')\n",
    "        content = file.read()\n",
    "        print(\"File content:\")\n",
    "        print(content)\n",
    "\n",
    "    except FileNotFoundError:\n",
    "        # If the file is not found, this block runs\n",
    "        print(\"Error: File not found.\")\n",
    "\n",
    "    finally:\n",
    "        # This block runs regardless of whether an error occurred\n",
    "        print(\"Closing file if open.\")\n",
    "        try:\n",
    "            file.close()\n",
    "        except:\n",
    "            print(\"File was never opened.\")\n",
    "\n",
    "# Call the demo function\n",
    "file_demo()"
   ]
  }
 ],
 "metadata": {
  "language_info": {
   "name": "python"
  }
 },
 "nbformat": 4,
 "nbformat_minor": 5
}
