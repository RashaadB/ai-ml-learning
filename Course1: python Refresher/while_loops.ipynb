{
 "cells": [
  {
   "cell_type": "markdown",
   "id": "00d43d56",
   "metadata": {},
   "source": []
  },
  {
   "cell_type": "code",
   "execution_count": null,
   "id": "901632f3",
   "metadata": {
    "vscode": {
     "languageId": "plaintext"
    }
   },
   "outputs": [],
   "source": [
    "# while_loops.py are used to repeat something, as long as it is True\n",
    "number = 100\n",
    "while number > 0:\n",
    "    print(number)\n",
    "    # number = number // 2\n",
    "    number //= 2\n",
    "\n",
    "command = \"\"\n",
    "while command.lower() != \"quit\":\n",
    "    command = input(\">\")\n",
    "    print(\"ECHO\", command)"
   ]
  }
 ],
 "metadata": {
  "language_info": {
   "name": "python"
  }
 },
 "nbformat": 4,
 "nbformat_minor": 5
}
