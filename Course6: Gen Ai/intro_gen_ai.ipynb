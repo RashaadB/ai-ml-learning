{
 "cells": [
  {
   "cell_type": "markdown",
   "id": "591f52e3",
   "metadata": {},
   "source": [
    "## Essentials and applications of Generative AI\n",
    "\n",
    "## intro to Generative AI models\n",
    "\n",
    "- Types of Generative Ai Models\n",
    "\n",
    "    - Generative adversarial networks (GANs): GANs, with a generator and discriminator, produce realistic images like StyleGAN\n",
    "        - used for image to image translation and creating deep fake videos\n",
    "\n",
    "    - Recurrent neural networks (RNNs): RNNs handle sequences and generate text with LSTM networks for context based tasks. \n",
    "        - Applied in text generation, language translation, and speech recognition systems\n",
    "\n",
    "    - Variational models: Models represent data distribution, enabling sampling, example; VAEs for diverse images.\n",
    "        - applied in image synthesis, data augmentation, and semi supervised learning.\n",
    "\n",
    "    - Transformers: Transformers handle sequences with self attention, popular in natural language processing.\n",
    "        - Essential for machine translation, chatbots, and text summarization\n",
    "\n",
    "    - Autoencoders: Autoencoders, a type of neural network, compress and decode dat for tasks such as image generation\n",
    "        - used in image denoising, dimensionality reduction, and anomaly detection in healthcare\n",
    "    \n",
    "## Intro to Variational Autoencoders (VAEs)\n",
    "\n",
    "- Variational autoencoders (VAEs) are autoencoders with generative capabilities\n",
    "\n",
    "    - variational autoencoders are a type of generative model used in machine learning. \n",
    "    - they are proficient at data compression and generation tasks.\n",
    "    - VAEs consits of two primary components: encoder and decoder. \n",
    "    - The encoder compresses input data into a lower dimensional representation called the latent space"
   ]
  }
 ],
 "metadata": {
  "language_info": {
   "name": "python"
  }
 },
 "nbformat": 4,
 "nbformat_minor": 5
}
