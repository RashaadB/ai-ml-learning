{
 "cells": [
  {
   "cell_type": "markdown",
   "id": "5eac72d1",
   "metadata": {},
   "source": [
    "- In Pandas, the datetime module provides handling date and time data.\n",
    "- The timedelta class allows manipulation of time intervals. \n",
    "- This combination is useful for time-based analysis and working with temporal data in a DataFrame."
   ]
  },
  {
   "cell_type": "code",
   "execution_count": 1,
   "id": "3b2af724",
   "metadata": {},
   "outputs": [
    {
     "name": "stdout",
     "output_type": "stream",
     "text": [
      "DatetimeIndex(['2025-05-31', '2025-06-30', '2025-07-31', '2025-08-31',\n",
      "               '2025-09-30', '2025-10-31', '2025-11-30', '2025-12-31',\n",
      "               '2026-01-31', '2026-02-28', '2026-03-31', '2026-04-30'],\n",
      "              dtype='datetime64[ns]', freq='ME')\n"
     ]
    },
    {
     "name": "stderr",
     "output_type": "stream",
     "text": [
      "/var/folders/9d/7216hsv562lbddcy7qb278zc0000gp/T/ipykernel_27110/1178814447.py:8: FutureWarning: 'M' is deprecated and will be removed in a future version, please use 'ME' instead.\n",
      "  date_range = pd.date_range(start = '2025-05-12', end='2026-05-12', freq='M')\n"
     ]
    }
   ],
   "source": [
    "import pandas as pd\n",
    "\n",
    "# The date_range function is used to generate a sequence of dates within a range\n",
    "# Can be used to create time indicies or date columns in a dataFrame\n",
    "# The start and end parameters define the range, freq determines the frequence, like daily (D) or monthly (M)\n",
    "\n",
    "#generate a date range\n",
    "date_range = pd.date_range(start = '2025-05-12', end='2026-05-12', freq='M')\n",
    "print(date_range)"
   ]
  },
  {
   "cell_type": "code",
   "execution_count": null,
   "id": "00aef0ac",
   "metadata": {},
   "outputs": [],
   "source": [
    "# Pandas provides the dt accessor to extract various components (Example: day, month, year) from a date column in a DataFrame. \n",
    "# This is valuable for time-based analysis when specific date attributes need to be considered.\n",
    "\n",
    "# Assuming 'df' is your DataFrame with a 'Date' column\n",
    "data = {'Date': ['2025-01-01', '2025-02-15', '2025-03-20']}\n",
    "df = pd.DataFrame(data)\n",
    "df['Date'] = pd.to_datetime(df['Date'])\n",
    "\n",
    "# Extracting day, month, and year information\n",
    "df['Day'] = df['Date'].dt.day\n",
    "df['Month'] = df['Date'].dt.month\n",
    "df['Year'] = df['Date'].dt.year\n",
    "\n",
    "# Displaying the DataFrame with extracted information\n",
    "print(df[['Date', 'Day', 'Month', 'Year']])\n",
    "\n",
    "# Extracting weekday and weekend information\n",
    "df = pd.DataFrame({'Date': pd.date_range(start='2025-01-01', periods=5)})\n",
    "df['Weekday'] = df['Date'].dt.weekday\n",
    "df['IsWeekend'] = df['Date'].dt.weekday // 5 == 1\n",
    "print(df[['Date', 'Weekday', 'IsWeekend']])\n",
    "\n",
    "# Shifting dates forward or backward\n",
    "df['Date'] = pd.to_datetime(df['Date'])\n",
    "df['PreviousDate'] = df['Date'] - pd.Timedelta(days=1)\n",
    "df['NextDate'] = df['Date'] + pd.Timedelta(days=1)\n",
    "print(df[['Date', 'PreviousDate', 'NextDate']])"
   ]
  },
  {
   "cell_type": "code",
   "execution_count": null,
   "id": "c0333607",
   "metadata": {},
   "outputs": [],
   "source": [
    "# The Timedelta class in Pandas represents a duration or the difference between two dates or times.\n",
    "# It can be created by specifying the desired duration, such as days, hours, or minutes.\n",
    "\n",
    "data = {\n",
    "    'Date': pd.date_range(start='2025-01-01', periods=10, freq='H'),\n",
    "    'Value1': range(10),\n",
    "    'Value2': range(10, 20)\n",
    "}\n",
    "df = pd.DataFrame(data)\n",
    "\n",
    "# Creating a timedelta of 3 days\n",
    "delta = pd.Timedelta(days=3)"
   ]
  },
  {
   "cell_type": "code",
   "execution_count": null,
   "id": "712f8f30",
   "metadata": {},
   "outputs": [],
   "source": [
    "# Timedelta objects can be used to perform arithmetic operations on dates. \n",
    "# Adding timedelta to a date results in a new date, useful for calculating future or past dates based on a given time interval\n",
    "\n",
    "# Performing arithmetic operations with timedeltas\n",
    "df['Date'] = pd.to_datetime(df['Date'])\n",
    "df['FutureDate'] = df['Date'] + pd.Timedelta(weeks=2, days=3, hours=12)\n",
    "print(df[['Date', 'FutureDate']])"
   ]
  },
  {
   "cell_type": "code",
   "execution_count": null,
   "id": "5cc31cc8",
   "metadata": {},
   "outputs": [],
   "source": [
    "# Time series data often comes with irregular time intervals. \n",
    "# Resampling is the process of changing the frequency of the time series data, either by upsampling (increasing frequency) or downsampling (decreasing frequency).\n",
    "\n",
    "# Resampling time series data\n",
    "df.set_index('Date', inplace=True)\n",
    "df_resampled = df.select_dtypes(include='number').resample('D').sum()\n",
    "print(df_resampled)"
   ]
  },
  {
   "cell_type": "code",
   "execution_count": null,
   "id": "327aa0d5",
   "metadata": {},
   "outputs": [],
   "source": [
    "# Pandas provides the categorical class to create a categorical variable. \n",
    "# Categorical variables are useful when dealing with data that can be divided into distinct, non-numeric categories.\n",
    "\n",
    "# Creating a categorical variable\n",
    "categories = ['Low', 'Medium', 'High']\n",
    "values = ['Low', 'Medium', 'High', 'Low', 'High']\n",
    "cat_variable = pd.Categorical(values, categories=categories, ordered=True)\n",
    "print(cat_variable)\n",
    "\n",
    "# The value_counts() method is used to count the occurrences of each category in a categorical column of a DataFrame.\n",
    "df = pd.DataFrame({'Category': ['A', 'B', 'A', 'C', 'B', 'A']})\n",
    "\n",
    "# Counting occurrences of each category\n",
    "category_counts = df['Category'].value_counts()\n",
    "print(category_counts)"
   ]
  },
  {
   "cell_type": "code",
   "execution_count": null,
   "id": "01f552d0",
   "metadata": {},
   "outputs": [],
   "source": [
    "# When working with machine learning models or statistical analyses, creating dummy variables is often necessary to represent categorical data numerically. \n",
    "# The get_dummies function creates binary columns for each category, effectively converting categorical data into a numerical format.\n",
    "\n",
    "df = pd.DataFrame({'Category': ['A', 'B', 'A', 'C', 'B', 'A']})\n",
    "\n",
    "# Creating dummy variables for categorical data\n",
    "dummy_variables = pd.get_dummies(df['Category'], prefix='Category')\n",
    "print(dummy_variables)\n",
    "\n",
    "\n",
    "#Another way of handling categorical data is through label encoding.\n",
    "#each category is assigned a unique numerical label. \n",
    "df = pd.DataFrame({'Category': ['A', 'B', 'A', 'C', 'B', 'A']})\n",
    "\n",
    "# Label Encoding\n",
    "df['Category_LabelEncoded'] = df['Category'].astype('category').cat.codes\n",
    "print(df[['Category', 'Category_LabelEncoded']])\n"
   ]
  }
 ],
 "metadata": {
  "kernelspec": {
   "display_name": "Python 3",
   "language": "python",
   "name": "python3"
  },
  "language_info": {
   "codemirror_mode": {
    "name": "ipython",
    "version": 3
   },
   "file_extension": ".py",
   "mimetype": "text/x-python",
   "name": "python",
   "nbconvert_exporter": "python",
   "pygments_lexer": "ipython3",
   "version": "3.13.2"
  }
 },
 "nbformat": 4,
 "nbformat_minor": 5
}
