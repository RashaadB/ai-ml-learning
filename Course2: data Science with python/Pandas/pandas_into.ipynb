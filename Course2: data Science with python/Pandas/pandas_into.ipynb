{
 "cells": [
  {
   "cell_type": "markdown",
   "id": "e04358c6",
   "metadata": {},
   "source": [
    "- Pandas is an open-source library built on top of NumPy and is used for data manipulation.\n",
    "- It introduces data structures like DataFrame and Series that make working with structured data more efficient.\n",
    "- The two main libraries of Pandas data structure are: Series and DataFrames"
   ]
  },
  {
   "cell_type": "code",
   "execution_count": null,
   "id": "8ce68be1",
   "metadata": {},
   "outputs": [],
   "source": [
    "import pandas as pd\n",
    "\n",
    "# Creating a Pandas Series from a list\n",
    "data = [1, 2, 3, 4, 5]\n",
    "series = pd.Series(data)\n",
    "\n",
    "# Creating a Pandas Series with a specified index\n",
    "index = ['a', 'b', 'c', 'd', 'e']\n",
    "series_with_index = pd.Series(data, index=index)\n",
    "\n",
    "# Creating a Pandas Series from a dictionary\n",
    "data_dict = {'a': 1, 'b': 2, 'c': 3, 'd': 4, 'e': 5}\n",
    "series_from_dict = pd.Series(data_dict)\n",
    "\n",
    "# Accessing data in a Series\n",
    "print(series[2])  # Accessing element at index 2\n",
    "print(series_with_index['b'])  # Accessing element with index 'b'\n",
    "\n",
    "# Return the first n rows\n",
    "first_n_rows = series.head(3)\n",
    "\n",
    "# Return the last n rows\n",
    "last_n_rows = series.tail(3)\n",
    "\n",
    "# Return dimensions (Rows, columns)\n",
    "dimensions = series.shape\n",
    "\n",
    "# Generate descriptive statistics\n",
    "stats = series.describe()\n",
    "\n",
    "# Return unique values\n",
    "unique_values = series.unique()\n",
    "\n",
    "# Return the number of unique values\n",
    "num_unique_values = series.nunique()"
   ]
  },
  {
   "cell_type": "markdown",
   "id": "196580e5",
   "metadata": {},
   "source": [
    "- Operations and transformations in Pandas Series are crucial for modifying, enhancing, and cleaning data effectively.\n",
    "- They provide flexibility to adapt data to specific analyses or visualizations, preparing it for meaningful insights and ensuring data quality."
   ]
  },
  {
   "cell_type": "code",
   "execution_count": null,
   "id": "5933341e",
   "metadata": {},
   "outputs": [],
   "source": [
    "# Element-wise addition\n",
    "result_series = series + series_with_index\n",
    "\n",
    "# Apply a function to each element\n",
    "squared_series = series.apply(lambda x: x**2)\n",
    "\n",
    "# Map values using a dictionary\n",
    "mapped_series = series.map({1: 'one', 2: 'two', 3: 'three'})\n",
    "\n",
    "# Sort the Series by values\n",
    "sorted_series = series.sort_values()\n",
    "\n",
    "# Check for missing values\n",
    "missing_values = series.isnull()\n",
    "\n",
    "# Fill missing values with a specified value\n",
    "filled_series = series.fillna(0)"
   ]
  },
  {
   "cell_type": "markdown",
   "id": "c535f794",
   "metadata": {},
   "source": [
    "- Selecting and filtering data based on specific conditions is an essential aspect of querying a Pandas Series.\n",
    "- The following examples illustrate common querying operations that can be applied to a Pandas Series:"
   ]
  },
  {
   "cell_type": "code",
   "execution_count": null,
   "id": "c0ba4af1",
   "metadata": {},
   "outputs": [],
   "source": [
    "# Create a Pandas Series\n",
    "data = {'a': 10, 'b': 20, 'c': 30, 'd': 40, 'e': 50}\n",
    "series = pd.Series(data)\n",
    "\n",
    "# Select elements greater than 30\n",
    "selected_greater_than_30 = series[series > 30]\n",
    "\n",
    "# Select elements equal to 20\n",
    "selected_equal_to_20 = series[series == 20]\n",
    "\n",
    "# Select elements not equal to 40\n",
    "selected_not_equal_to_40 = series[series != 40]\n",
    "\n",
    "# Select elements based on multiple conditions\n",
    "selected_multiple_conditions = series[(series > 20) & (series < 50)]\n",
    "\n",
    "# Select elements based on a list of values\n",
    "selected_by_list = series[series.isin([20, 40, 60])]\n",
    "\n",
    "# Select elements using string methods (if applicable)\n",
    "string_series = pd.Series(['apple', 'banana', 'cherry', 'date', 'elderberry'])\n",
    "selected_by_string_method = string_series[string_series.str.startswith('b')]\n",
    "\n",
    "# Query based on index labels\n",
    "selected_by_index_labels = series.loc[['a', 'c', 'e']]\n",
    "\n",
    "# Query based on numeric position\n",
    "selected_by_numeric_position = series.iloc[1:4]\n",
    "\n",
    "# Display the results\n",
    "print(\"Original Series:\")\n",
    "print(series)\n",
    "print(\"\\nSelected greater than 30:\")\n",
    "print(selected_greater_than_30)\n",
    "print(\"\\nSelected equal To 20:\")\n",
    "print(selected_equal_to_20)\n",
    "print(\"\\nSelected not equal to 40:\")\n",
    "print(selected_not_equal_to_40)\n",
    "print(\"\\nSelected based on multiple conditions:\")\n",
    "print(selected_multiple_conditions)\n",
    "print(\"\\nSelected based on list of values:\")\n",
    "print(selected_by_list)\n",
    "print(\"\\nSelected based on string method (startswith):\")\n",
    "print(selected_by_string_method)\n",
    "print(\"\\nSelected based on index labels:\")\n",
    "print(selected_by_index_labels)\n",
    "print(\"\\nSelected based on numeric position:\")\n",
    "print(selected_by_numeric_position)"
   ]
  }
 ],
 "metadata": {
  "kernelspec": {
   "display_name": "Python 3",
   "language": "python",
   "name": "python3"
  },
  "language_info": {
   "name": "python",
   "version": "3.13.2"
  }
 },
 "nbformat": 4,
 "nbformat_minor": 5
}
