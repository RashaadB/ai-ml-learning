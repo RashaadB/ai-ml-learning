{
 "cells": [
  {
   "cell_type": "markdown",
   "id": "166c5aee",
   "metadata": {},
   "source": [
    "## Pandas Practice\n",
    "- Use Pandas Series to analyze sales data for a retail store over a week and draw insights from the data.\n",
    "\n",
    "\n",
    "1. Create a Pandas Series for sales data\n",
    "- Use a list of daily sales figures to create a Pandas Series\n",
    "- Assign days of the week as the index\n",
    "2. Access and manipulate sales data\n",
    "- Access sales data for specific days using index labels\n",
    "- Calculate total sales for the week\n",
    "   \n"
   ]
  },
  {
   "cell_type": "code",
   "execution_count": 17,
   "id": "f2022c61",
   "metadata": {},
   "outputs": [
    {
     "name": "stdout",
     "output_type": "stream",
     "text": [
      "Wednesday data: 130\n",
      "Monday data: 120\n",
      "140\n",
      "1050\n"
     ]
    }
   ],
   "source": [
    "import pandas as pd\n",
    "# Sample sales data\n",
    "\n",
    "\n",
    "sales_data = [120, 150, 130, 170, 160, 180, 140]\n",
    "\n",
    "days_of_week = ['Monday', 'Tuesday', 'Wednesday', 'Thursday', 'Friday', 'Saturday', 'Sunday']\n",
    "\n",
    "#create panda series for sales data\n",
    "series_sales_data = pd.Series(sales_data)\n",
    "\n",
    "# assign days of the week as the index\n",
    "series_with_index = pd.Series(sales_data, index=days_of_week)\n",
    "# print(series_with_index)\n",
    "\n",
    "# accessing sales data for specific days\n",
    "print(\"Wednesday data:\", series_with_index['Wednesday'])\n",
    "print(\"Monday data:\", series_with_index['Monday'])\n",
    "print(series_sales_data[6]) \n",
    "\n",
    "#calculate sum of total sales\n",
    "sum_days = pd.Series.sum(series_sales_data)\n",
    "print(sum_days)"
   ]
  }
 ],
 "metadata": {
  "kernelspec": {
   "display_name": "Python 3",
   "language": "python",
   "name": "python3"
  },
  "language_info": {
   "codemirror_mode": {
    "name": "ipython",
    "version": 3
   },
   "file_extension": ".py",
   "mimetype": "text/x-python",
   "name": "python",
   "nbconvert_exporter": "python",
   "pygments_lexer": "ipython3",
   "version": "3.13.2"
  }
 },
 "nbformat": 4,
 "nbformat_minor": 5
}
