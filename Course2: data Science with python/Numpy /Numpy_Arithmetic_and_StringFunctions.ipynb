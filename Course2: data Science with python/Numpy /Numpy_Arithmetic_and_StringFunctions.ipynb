{
 "cells": [
  {
   "cell_type": "markdown",
   "id": "b3258a4f",
   "metadata": {},
   "source": [
    "## Arithmetic Operations Using NumPy\n",
    "- Addition\n",
    "- Subtraction\n",
    "- Multiplication\n",
    "- Division\n",
    "- Power of"
   ]
  },
  {
   "cell_type": "code",
   "execution_count": null,
   "id": "28058fc8",
   "metadata": {},
   "outputs": [],
   "source": [
    "import numpy as np\n",
    "\n",
    "# element addition of two arrays using the 'np.add' method\n",
    "a = np.array([30,20,10])\n",
    "b = np.array([10,20,30])\n",
    "result = np.add (a,b)\n",
    "print(result)\n",
    "\n",
    "# Subtraction of two arrays using 'np.subtract'\n",
    "a = np.array([[30,40,60], [50,70,90]])\n",
    "b = np.array([[10,20,30], [40,30,80]])\n",
    "result = np.subtract (a,b)\n",
    "print(result)\n",
    "\n",
    "# multiplication of two arrays using 'np.multiply'\n",
    "a = np.array([30,20,10])\n",
    "b = np.array([10,20,30])\n",
    "result = np.multiply (a,b)\n",
    "print(result)\n",
    "\n",
    "# division of two arrays using the 'np.divide' method\n",
    "a = np.array([[1,2,1],[2,2,3]])\n",
    "b = np.array([3,4,5])\n",
    "result = np.divide (a,b)\n",
    "print(result)\n",
    "\n",
    "# power operation where each element in 'a' is raised to the corresponding element in 'b' using the 'np.power' method\n",
    "a = [2,2,2,2,2]\n",
    "b = [2,3,4,5,6]\n",
    "c = np.power(a,b)\n",
    "print(c)"
   ]
  },
  {
   "cell_type": "markdown",
   "id": "24bea706",
   "metadata": {},
   "source": [
    "## Statistical Function in Numpy\n",
    "- Calculating Median, Mean, Standard Deviation, and Variance in the Array\n",
    "- Calculating Percentiles\n"
   ]
  },
  {
   "cell_type": "code",
   "execution_count": null,
   "id": "57eb0ce3",
   "metadata": {},
   "outputs": [],
   "source": [
    "# Median\n",
    "array = np.array([[4,3,2],[10,1,0],[5,8,24]])\n",
    "np.median(array)\n",
    "print(np.median(array))\n",
    "# Mean\n",
    "np.mean(array)\n",
    "print(np.mean(array))\n",
    "# Standard Deviation\n",
    "np.std(array)\n",
    "print(np.std(array))\n",
    "# Variance\n",
    "np.var(array)\n",
    "print(np.var(array))\n",
    "\n",
    "# The np.percentile() function is used to compute the nth percentile of the array elements.\n",
    "# The nth percentile value should be in between 0 and 100.\n",
    "\n",
    "# Find the value under the 50th percentile of the NumPy array.\n",
    "np.percentile(array,50)"
   ]
  },
  {
   "cell_type": "markdown",
   "id": "e86f69e4",
   "metadata": {},
   "source": [
    "## String Function in Numpy\n",
    "- numpy.char is a module that provides vectorized string operations for NumPy arrays.\n",
    "- allows for applying string functions element-wise on entire NumPy arrays of strings\n",
    "- .char.add for concatenation for two arrays of strings\n",
    "- .char.replace for replacing parts of a string with new string characters \n",
    "- .char.upper converts the string to all uppercase\n",
    "- .char.lower converts string to all lowercase"
   ]
  },
  {
   "cell_type": "code",
   "execution_count": null,
   "id": "98019bec",
   "metadata": {},
   "outputs": [],
   "source": [
    "#string concatenation for two arrays of string\n",
    "x = np.array(['Hello','World'])\n",
    "y = np.array(['Welcome', 'Learners'])\n",
    "result = np.char.add(x,y)\n",
    "print(result)\n",
    "\n",
    "# Replacing the old substring with the new substring\n",
    "str = \"Hello How Are You\"\n",
    "print(str)\n",
    "z = np.char.replace (str, 'Hello', 'Hi')\n",
    "print (z)\n",
    "\n",
    "# Converting all lowercase characters in a string to uppercase and vice-versa\n",
    "str1 = \"hello how are you\"\n",
    "print(str1)\n",
    "z = np.char.upper (str1)\n",
    "print(z)\n",
    "str2 = \"GREETINGS OF THE DAY\"\n",
    "print(str2)\n",
    "s = np.char.lower (str2)\n",
    "print(s)"
   ]
  }
 ],
 "metadata": {
  "kernelspec": {
   "display_name": "Python 3",
   "language": "python",
   "name": "python3"
  },
  "language_info": {
   "name": "python",
   "version": "3.13.2"
  }
 },
 "nbformat": 4,
 "nbformat_minor": 5
}
