{
 "cells": [
  {
   "cell_type": "markdown",
   "id": "6b26fad8",
   "metadata": {},
   "source": [
    "## NumPy Array Slicing\n",
    "- In Python, slicing refers to moving elements from one index to another.\n",
    "- Instead of using an index, the slice is passed as [start:end].\n",
    "- Another way to pass the slice is to add a step as [start:end:step].\n",
    "- In slicing, if the starting is not passed, it is considered as 0. If the step is not passed as 1 and if the end is not passed, it is considered as the length of the array in that dimension."
   ]
  },
  {
   "cell_type": "code",
   "execution_count": null,
   "id": "c9dd9bf3",
   "metadata": {},
   "outputs": [],
   "source": [
    "import numpy as np\n",
    "\n",
    "# Retrieve the seven numbers starting at 1\n",
    "numbers = np.array([1, 4, 3, 5, 6, 8, 9, 10, 12])\n",
    "print(numbers[1:7])\n",
    "\n",
    "#print the list of subjects from the fourth index to the end\n",
    "Books = np.array(['Physics','DataScience','Maths','Python','Hadoop', 'OPPs', 'Java', 'Cloud'])\n",
    "print(Books[5:])\n",
    "\n",
    "#Slicing using step values\n",
    "X = np.array([8, 7, 6, 5, 4, 3, 2, 1])\n",
    "print(X[1:6:3])\n",
    "\n",
    "#Slicing 2D array\n",
    "Z = np.array([[11, 22, 33, 44, 55], [66, 77, 88, 99, 110]])\n",
    "print(Z[0, 2:3])\n",
    "\n",
    "#Slicing 3D Array\n",
    "array_3d = np.array([[[1,2,3],[4,5,6]],[[7,8,9],[10,11,12]]])\n",
    "print(array_3d[0,1:,1:])\n",
    "\n",
    "#Negative Slicing\n",
    "# Negative slicing for 1D array\n",
    "Neg_slice = np.array([13, 34, 58, 69, 44, 56, 37,24])\n",
    "print(Neg_slice[:-1])"
   ]
  }
 ],
 "metadata": {
  "kernelspec": {
   "display_name": "Python 3",
   "language": "python",
   "name": "python3"
  },
  "language_info": {
   "name": "python",
   "version": "3.13.2"
  }
 },
 "nbformat": 4,
 "nbformat_minor": 5
}
