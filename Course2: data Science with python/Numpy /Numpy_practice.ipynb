{
 "cells": [
  {
   "cell_type": "markdown",
   "id": "f750f43d",
   "metadata": {},
   "source": [
    "- Create a one-dimensional NumPy array containing at least ten elements\n",
    "- Create a 2D NumPy array with a minimum of 3 rows and 4 columns\n",
    "- Create a 3D NumPy array with at least 2 matrices, each containing 2 rows and 3 columns\n",
    "- Access elements in NumPy arrays and utilize indexing and slicing techniques for efficient data retrieval\n",
    "- Access and print various elements from 1D, 2D, and 3D arrays using positive indexing\n"
   ]
  },
  {
   "cell_type": "code",
   "execution_count": null,
   "id": "f4482c7f",
   "metadata": {},
   "outputs": [],
   "source": [
    "import numpy as np\n",
    "\n",
    "# Create a one-dimensional NumPy array containing at least ten elements\n",
    "arr = np.array([3, 7, 1, 9, 12, 5, 8, 4, 6, 2])\n",
    "print(arr)\n",
    "#grabbing the first element 3 from the 1D array\n",
    "arr[0] \n",
    "\n",
    "#grabbing the last element 2 from the 1D array\n",
    "arr[-1]\n",
    "\n",
    "#slicing the 1D array \n",
    "arr[2:5]\n",
    "arr[:4]\n",
    "arr[::2]\n",
    "\n",
    "# Create a 2D NumPy array with a minimum of 3 rows and 4 columns\n",
    "arr_2d = np.array([\n",
    "    [10, 20, 30, 40],\n",
    "    [50, 60, 70, 80],\n",
    "    [90, 100, 110, 120]\n",
    "])\n",
    "print(arr_2d)\n",
    "\n",
    "# grabing 70 from the 2D array\n",
    "arr_2d[1, 2]   \n",
    "\n",
    "#grabing 90 from the 2D array\n",
    "arr_2d[-1, 0] \n",
    "\n",
    "\n",
    "# Create a 3D NumPy array with at least 2 matrices, each containing 2 rows and 3 columns\n",
    "arr_3d = np.array([\n",
    "    [  # First matrix (2x3)\n",
    "        [1, 2, 3],\n",
    "        [4, 5, 6]\n",
    "    ],\n",
    "    [  # Second matrix (2x3)\n",
    "        [7, 8, 9],\n",
    "        [10, 11, 12]\n",
    "    ]\n",
    "])\n",
    "\n",
    "# grabing 6 from the 3D array\n",
    "arr_3d[0, 1, 2]\n",
    "\n",
    "#indexing 7,8,9 from 3D array\n",
    "arr_3d[1,0]\n"
   ]
  }
 ],
 "metadata": {
  "kernelspec": {
   "display_name": "Python 3",
   "language": "python",
   "name": "python3"
  },
  "language_info": {
   "name": "python",
   "version": "3.13.2"
  }
 },
 "nbformat": 4,
 "nbformat_minor": 5
}
