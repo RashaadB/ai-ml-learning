{
 "cells": [
  {
   "cell_type": "markdown",
   "id": "d92c0177",
   "metadata": {},
   "source": [
    "## NumPy Array Attributes\n",
    "\n",
    "- ndarray.ndim: It is the number of axes (dimensions) of the array. \n",
    "- ndarray.shape: It provides the size of the array for each dimension. The output data type is a tuple. \n",
    "- ndarray.size : It is the total number of elements in the array. \n",
    "- ndarray.dtype: It shows the data type of the elements in the array. \n",
    "- ndarray.itemsize: It shows the length of one array element in bytes. \n",
    "- ndarray.data: It is an attribute offering direct access to the raw memory of a NumPy array.\n",
    "\n",
    "## NumPy Array Functions\n",
    "\n",
    "- ndarray.reshape: It returns an array containing the same data with a new shape.\n",
    "- ndarray.flatten: It returns a copy of the array flattened into a 1D array.\n",
    "- ndarray.transpose: It swaps the rows and columns of a 2D array."
   ]
  },
  {
   "cell_type": "code",
   "execution_count": null,
   "id": "a18f8c1e",
   "metadata": {},
   "outputs": [],
   "source": [
    "# An example for each attribute is given below:\n",
    "import numpy as np\n",
    "arr = np.array([[ 1, 2, 3], [ 4, 2, 5]])\n",
    "print(\"No. of dimensions: \", arr.ndim)\n",
    "print(\"Shape of array: \", arr.shape)\n",
    "print(\"Size of array: \", arr.size)\n",
    "print(\"Array stores elements of type: \", arr.dtype)\n",
    "print(\"Length of one array element in bytes. : \", arr.itemsize)\n",
    "print(\"array’s data. : \", arr.data)\n",
    "\n",
    "\n",
    "# Example: Converting a 1D Array to a 2D Array\n",
    "arr = np.array([1,2,3,4,5,6,7,8,9,10,11,12])\n",
    "newarr = arr.reshape(4,3)\n",
    "print (newarr)\n",
    "\n",
    "# Converting a multidimensional(3D) array into a 1D array\n",
    "arr3D = np.array([[[1, 2, 3], [4, 5, 6]], [[7, 8, 9], [10, 11, 12]]])\n",
    "flattened_array = arr3D.flatten()\n",
    "flattened_array\n",
    "\n",
    "# create a 2D array for the transpose example\n",
    "import numpy as np\n",
    "arr2D = np.array([[1, 2, 3], [4, 5, 6]])\n",
    "# Transposing the 2D array\n",
    "transposed_array = arr2D.transpose()\n",
    "transposed_array"
   ]
  }
 ],
 "metadata": {
  "kernelspec": {
   "display_name": "Python 3",
   "language": "python",
   "name": "python3"
  },
  "language_info": {
   "name": "python",
   "version": "3.13.2"
  }
 },
 "nbformat": 4,
 "nbformat_minor": 5
}
