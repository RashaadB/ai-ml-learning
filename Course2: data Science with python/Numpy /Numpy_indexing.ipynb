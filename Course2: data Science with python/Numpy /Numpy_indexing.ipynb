{
 "cells": [
  {
   "cell_type": "markdown",
   "id": "728fad99",
   "metadata": {},
   "source": [
    "## NumPy Array Indexing\n",
    "- Access 1D NumPy Array Elements\n",
    "- Access 2D NumPy Array Elements\n",
    "- Access 3D NumPy Array Elements\n",
    "\n",
    "- NumPy indexing lets you access an array element with an index value, starting from 0.\n"
   ]
  },
  {
   "cell_type": "code",
   "execution_count": null,
   "id": "5a97befe",
   "metadata": {},
   "outputs": [],
   "source": [
    "import numpy as np\n",
    "\n",
    "# Creating 1D, 2D, and 3D NumPy arrays\n",
    "# The above code creates 1D, 2D, and 3D NumPy arrays with specified elements, providing structured data representations for different dimensions.\n",
    "array_1d = np.array([1, 2, 3, 4, 5, 6])\n",
    "array_2d = np.array([[1, 2, 3], [4, 5, 6]])\n",
    "array_3d = np.array([[[1, 2, 3], [4, 5, 6]], [[7, 8, 9], [10, 11, 12]]])\n",
    "\n",
    "# Print the value at index 3 of the 1D NumPy array\n",
    "print(array_1d[3])\n",
    "\n",
    "# Print the sum of the values at indexes 0 and 1 in the 1D NumPy array\n",
    "print(array_1d[1] + array_1d[0])\n",
    "\n",
    "# Printing the third element in the first row of the 2D array\n",
    "print('Third element in the first row: ', array_2d[0, 2])\n",
    "\n",
    "# Printing the second element in the second row of the 2D array\n",
    "print('Second element in the second row: ', array_2d[1, 1])\n",
    "\n",
    "# Print the 3D NumPy array\n",
    "print(array_3d)\n",
    "\n",
    "# Print the first element of the first row of the second 2D array within the 3D array\n",
    "print(array_3d[1, 0, 0])"
   ]
  },
  {
   "cell_type": "markdown",
   "id": "376ca563",
   "metadata": {},
   "source": [
    "## Negative Indexing\n",
    "- Negative indices count backward from the end of the array.\n",
    "- In a negative indexing system, the last element will be the first element with an index of -1, the second last element with an index of -2, and so on."
   ]
  },
  {
   "cell_type": "code",
   "execution_count": null,
   "id": "25e01555",
   "metadata": {},
   "outputs": [],
   "source": [
    "# Printing the fourth element from the end of the 1D array using negative indexing\n",
    "print(array_1d[-3])\n",
    "\n",
    "# Printing the last element in the second row of the 2D array using negative indexing\n",
    "print(array_2d[1, -1])\n",
    "\n",
    "# Printing the last element in the last row of the last 2D array within the 3D array using negative indexing\n",
    "print(array_3d[1, 1, -1])"
   ]
  }
 ],
 "metadata": {
  "kernelspec": {
   "display_name": "Python 3",
   "language": "python",
   "name": "python3"
  },
  "language_info": {
   "name": "python",
   "version": "3.13.2"
  }
 },
 "nbformat": 4,
 "nbformat_minor": 5
}
