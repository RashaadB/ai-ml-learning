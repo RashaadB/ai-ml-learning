{
 "cells": [
  {
   "cell_type": "markdown",
   "id": "686814a9",
   "metadata": {},
   "source": [
    "## NumPy (numerical Python) is an open-source library that is mostly used for mathematical operations in scientific and engineering applications\n",
    "\n",
    "- used for working with arrays\n",
    "- working with multidimensional array of objects \n",
    "- manipulating functions\n",
    "- conducting mathematical and logical operations on arrays   "
   ]
  },
  {
   "cell_type": "code",
   "execution_count": 1,
   "id": "ff815015",
   "metadata": {},
   "outputs": [
    {
     "name": "stdout",
     "output_type": "stream",
     "text": [
      "[10 20 30 40 50]\n"
     ]
    }
   ],
   "source": [
    "import numpy as np \n",
    "arr = np.array ([10,20,30,40,50])\n",
    "print(arr)"
   ]
  },
  {
   "cell_type": "code",
   "execution_count": null,
   "id": "ca24aa2e",
   "metadata": {},
   "outputs": [],
   "source": [
    "# Create NumPy Arrays\n",
    "# Create multiple dimensional arrays, such as 0D,1D,2D, and 3D arrays\n",
    "\n",
    "# Create a 0D Array\n",
    "arr0 = np.array(24)\n",
    "print ('0D array is', arr0)\n",
    "# Create a 1D Array\n",
    "arr1 = np.array([1,2,3,4])\n",
    "print ('1D array is', arr1)\n",
    "# Create a 2D Array\n",
    "arr2 = np.array([[1,1,1],[1,2,1]])\n",
    "print ('2D array is', arr2)\n",
    "# Create a 3D Array\n",
    "arr3 = np.array([[[1,1,1],[2,2,2]],[[3,3,3],[4,4,4]]])\n",
    "print ('3D array is', arr3)\n",
    "\n",
    "# Observations:\n",
    "\n",
    "# 1D arrays are unidimensional and have 0D arrays as its elements.\n",
    "# 2D arrays have 1D arrays as their elements.\n",
    "# 3D arrays have 2D arrays as their elements."
   ]
  }
 ],
 "metadata": {
  "kernelspec": {
   "display_name": "Python 3",
   "language": "python",
   "name": "python3"
  },
  "language_info": {
   "codemirror_mode": {
    "name": "ipython",
    "version": 3
   },
   "file_extension": ".py",
   "mimetype": "text/x-python",
   "name": "python",
   "nbconvert_exporter": "python",
   "pygments_lexer": "ipython3",
   "version": "3.13.2"
  }
 },
 "nbformat": 4,
 "nbformat_minor": 5
}
