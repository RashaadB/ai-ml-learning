{
 "cells": [
  {
   "cell_type": "markdown",
   "id": "786a8165",
   "metadata": {},
   "source": [
    "## Math and Statistics\n",
    "\n",
    "`linear_algebra.ipynb`\n",
    "- Introduction to Linear Algebra\n",
    "- Scalars and Vectors\n",
    "- Vector Operation: Multiplication\n",
    "- Norm of a Vector\n",
    "- Matrix and Matrix Operations\n",
    "- Rank of Matrix\n",
    "- Determinant of Matrix and Identity Matrix\n",
    "- Inverse of Matrix, Eigenvalues, and Eigenvectors\n",
    "- Eigenvalues and Eigenvectors\n",
    "- Calculus in Linear Algebra\n",
    "\n",
    "- linear algebra is a branch of mathematics essential for understanding data science. The concepts of linear algebra are valuable to data scientists and machine learning practitioners.\n",
    "- In linear algebra, data is represented using linear equations. Matrices and vectors represent these. Its the process of representing large amounts of information.\n",
    "- A matrix consists of rows and columns of numbers, variables, or expressions.\n",
    "- Reducing data dimensions or choosing the right hyperparameters is important when building machine learning models.\n",
    "- when complex operations are involved in data science tasks, like reducing data dimensions or selecting optimal hyperparameters for machine learning models, the use of mathematical notation and formalized concepts from linear algebra can be especially helpful.\n",
    "\n",
    "\n"
   ]
  },
  {
   "cell_type": "markdown",
   "id": "c5d33ab1",
   "metadata": {},
   "source": [
    "## Essential parts of linear algebra\n",
    "- Notion: A clear idea of notations simplifies algorithms, its also true while reading python code.\n",
    "- Operations: Understanding vectors and matrices becomes easier when approached at an abstract level. Key operations for matrices and vectors include addition, multiplication, inversion, and transposition."
   ]
  },
  {
   "cell_type": "markdown",
   "id": "8a766620",
   "metadata": {},
   "source": [
    "## Scalars and Vectors\n",
    "- measurable quantities, such as length, area, and volume, can be fully determined by specifying only their magnitude. These quantities are known as scalars.\n",
    "- A vector quantity is a physical quantity that has direction and magnitude. For example, velocity, force, and acceleration require a magnitude and a direction for their description.\n",
    "- Example: Wind velocity is a vector with a speed and direction, such as 15 miles per hour northeast. Geometrically, arrows or directed line segments typically represent vectors.\n",
    "- Linear algebra is the study of vectos\n",
    "- An arrow with the same direction often represents it as the quantity and a length proportional to the magnitude of the quantity.\n",
    "- Vectors are ordered lists of finite numbers.\n",
    "- Vectors are the most fundamental mathematical objects in data science."
   ]
  },
  {
   "cell_type": "code",
   "execution_count": 4,
   "id": "cceb6164",
   "metadata": {},
   "outputs": [
    {
     "name": "stdout",
     "output_type": "stream",
     "text": [
      "5\n",
      "[39, -4, -11]\n"
     ]
    }
   ],
   "source": [
    "# Vector Operations: Multiplication \n",
    "# The multiplication of vectors can be described by cross-products and dot products\n",
    "\n",
    "# Define a function to calculate dot product of two matricies \n",
    "def dot_product(x,y): \n",
    "\n",
    "    #Ensure that both the vectors have same length use the zip function\n",
    "    return sum(i*j for i, j in zip(x,y))\n",
    "\n",
    "print(dot_product([3,2,6], [1,7,-2]))\n",
    "\n",
    "# Define a function to calculate cross product of two vectors\n",
    "def cross_product(u,v):\n",
    "    q0 = u[1]*v[2] - u[2]*v[1]\n",
    "    q1 = u[0]*v[0] - u[0]*v[2]\n",
    "    q2 = u[0]*v[1] - u[1]*v[0]\n",
    "    return [q0,q1,q2]\n",
    "\n",
    "# Define vectors of same length\n",
    "u = [1,4,5]\n",
    "v =[2,-3,6]\n",
    "\n",
    "# Calculate the cross product\n",
    "cross_product_result = cross_product(u, v)\n",
    "print(cross_product_result)"
   ]
  },
  {
   "cell_type": "markdown",
   "id": "806b4022",
   "metadata": {},
   "source": [
    "## Norm of a vector\n",
    "- The norm of a vector, referred to as the vector's magnitude or length, is a measure of its length from the origin in Euclidean space\n",
    "- The most commonly used norm is the Euclidean norm\n",
    "- which is the distance of the point defined by the vector from the origin (0,0, ...,0) in n-dimensional space."
   ]
  },
  {
   "cell_type": "code",
   "execution_count": 5,
   "id": "dc4fecf7",
   "metadata": {},
   "outputs": [
    {
     "data": {
      "text/plain": [
       "7.416198487095663"
      ]
     },
     "execution_count": 5,
     "metadata": {},
     "output_type": "execute_result"
    }
   ],
   "source": [
    "# Python code to find the Norm of a vector\n",
    "import math\n",
    "\n",
    "#Define vector\n",
    "v = [-1,-2, 3, 4, 5]\n",
    "\n",
    "#Define function to calculate norm of a vector\n",
    "def norm_vector(v):\n",
    "    dot_product = sum(i*i for i in v)\n",
    "    return math.sqrt(dot_product)\n",
    "\n",
    "#call the function \n",
    "norm_vector(v)"
   ]
  },
  {
   "cell_type": "markdown",
   "id": "466b174b",
   "metadata": {},
   "source": [
    "## Matrix and Maatrix Operations\n",
    "- A matrix is a rectangular array of numbers or expressions, arranged in columns and rows. It is used to represent\n",
    "a mathematical object or a property of the object.\n",
    "- If X[aij] and Y[bij] are  𝑚×𝑛  matrices, their sum X+Y is an  𝑚×𝑛  matrix obtained by adding the corresponding elements."
   ]
  },
  {
   "cell_type": "code",
   "execution_count": null,
   "id": "25bcbe55",
   "metadata": {},
   "outputs": [
    {
     "name": "stdout",
     "output_type": "stream",
     "text": [
      "Enter the rows and columns of first matrix\n"
     ]
    }
   ],
   "source": [
    "# python implementation for the addition of two matricies with the same order\n",
    "\n",
    "# Define a function to add matrices\n",
    "def matrix_addition(x,y):\n",
    "    xrows = len(x)\n",
    "    xcols = len(x[0])\n",
    "    yrows = len(y)\n",
    "    ycols = len(y[0])\n",
    "    if xrows !=yrows or xcols != ycols:\n",
    "        print('sum is not defined as the matrices have different orders')\n",
    "    else: \n",
    "        result=[[0 for i in range(xcols)]for i in range(xrows)]\n",
    "        for i in range(xrows):\n",
    "            for j in range(xcols):\n",
    "                result[i][j] = matrix_X[i][j]+matrix_Y[i][j]\n",
    "        return result\n",
    "    \n",
    "# Take input from the user\n",
    "print(\"Enter the rows and columns of first matrix\")\n",
    "rows1 = int(input(\"Enter the number of rows : \" ))\n",
    "column1 = int(input(\"Enter the number of columns: \"))\n",
    "\n",
    "print(\"Enter the elements of first Matrix:\")\n",
    "matrix_X= [[int(input()) for i in range(column1)] for i in range(rows1)]\n",
    "print(\"First matrix is: \")\n",
    "for n in matrix_X:\n",
    "    print(n)\n",
    "print(\"Enter the rows and columns of second matrix\")\n",
    "rows2 = int(input(\"Enter the number of rows : \" ))\n",
    "column2 = int(input(\"Enter the number of columns: \"))\n",
    "\n",
    "print(\"Enter the elements of second matrix:\")\n",
    "matrix_Y= [[int(input()) for i in range(column2)] for i in range(rows2)]\n",
    "for n in matrix_Y:\n",
    "    print(n)\n",
    "\n",
    "# Return the value of function\n",
    "matrix_addition(matrix_X,matrix_Y)"
   ]
  }
 ],
 "metadata": {
  "kernelspec": {
   "display_name": "Python 3",
   "language": "python",
   "name": "python3"
  },
  "language_info": {
   "codemirror_mode": {
    "name": "ipython",
    "version": 3
   },
   "file_extension": ".py",
   "mimetype": "text/x-python",
   "name": "python",
   "nbconvert_exporter": "python",
   "pygments_lexer": "ipython3",
   "version": "3.12.3"
  }
 },
 "nbformat": 4,
 "nbformat_minor": 5
}
