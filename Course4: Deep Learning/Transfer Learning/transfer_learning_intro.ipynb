{
 "cells": [
  {
   "cell_type": "markdown",
   "id": "5c1dfc34",
   "metadata": {},
   "source": [
    "## Transfer Learning\n",
    "- It is a deep learning techniqe where a model developed for one task is reused as the starting point for another model. The latter part of this pre-trained model is then fined-tuned or adapted to suit the specific requirements of the new task. "
   ]
  }
 ],
 "metadata": {
  "language_info": {
   "name": "python"
  }
 },
 "nbformat": 4,
 "nbformat_minor": 5
}
