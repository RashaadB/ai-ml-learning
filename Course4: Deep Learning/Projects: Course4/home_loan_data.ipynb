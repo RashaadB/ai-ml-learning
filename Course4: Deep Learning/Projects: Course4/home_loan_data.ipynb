{
 "cells": [
  {
   "cell_type": "code",
   "execution_count": 3,
   "id": "471226bc",
   "metadata": {},
   "outputs": [],
   "source": [
    "import pandas as pd\n",
    "from sklearn.model_selection import train_test_split\n",
    "from sklearn.preprocessing import LabelEncoder\n",
    "from sklearn.metrics import confusion_matrix, roc_auc_score, roc_curve\n",
    "import matplotlib.pyplot as plt\n",
    "import seaborn as sns\n",
    "# Load datasets\n",
    "loan_data = pd.read_csv(\"loan_data.csv\")\n",
    "data_dict = pd.read_csv(\"Data_Dictionary.csv\", encoding=\"latin1\")\n",
    "\n",
    "# Check for missing values\n",
    "null_counts = loan_data.isnull().sum()\n",
    "null_percent = (null_counts / len(loan_data)) * 100\n"
   ]
  },
  {
   "cell_type": "code",
   "execution_count": 5,
   "id": "7caf7aef",
   "metadata": {},
   "outputs": [
    {
     "name": "stdout",
     "output_type": "stream",
     "text": [
      "Class Distribution (%):\n",
      " TARGET\n",
      "0    91.927118\n",
      "1     8.072882\n",
      "Name: proportion, dtype: float64\n"
     ]
    },
    {
     "name": "stderr",
     "output_type": "stream",
     "text": [
      "/Library/Frameworks/Python.framework/Versions/3.12/lib/python3.12/site-packages/sklearn/linear_model/_logistic.py:465: ConvergenceWarning: lbfgs failed to converge (status=1):\n",
      "STOP: TOTAL NO. OF ITERATIONS REACHED LIMIT.\n",
      "\n",
      "Increase the number of iterations (max_iter) or scale the data as shown in:\n",
      "    https://scikit-learn.org/stable/modules/preprocessing.html\n",
      "Please also refer to the documentation for alternative solver options:\n",
      "    https://scikit-learn.org/stable/modules/linear_model.html#logistic-regression\n",
      "  n_iter_i = _check_optimize_result(\n"
     ]
    },
    {
     "name": "stdout",
     "output_type": "stream",
     "text": [
      "Sensitivity: 0.58\n",
      "AUC Score: 0.62\n"
     ]
    },
    {
     "data": {
      "text/plain": [
       "<Figure size 640x480 with 0 Axes>"
      ]
     },
     "metadata": {},
     "output_type": "display_data"
    }
   ],
   "source": [
    "import pandas as pd\n",
    "import matplotlib.pyplot as plt\n",
    "import seaborn as sns\n",
    "import numpy as np\n",
    "from sklearn.model_selection import train_test_split\n",
    "from sklearn.preprocessing import LabelEncoder\n",
    "from sklearn.linear_model import LogisticRegression\n",
    "from sklearn.metrics import confusion_matrix, roc_auc_score, roc_curve\n",
    "\n",
    "# Load dataset\n",
    "loan_data = pd.read_csv(\"loan_data.csv\")\n",
    "\n",
    "# Step 1: Class distribution\n",
    "target_col = 'TARGET'\n",
    "class_distribution = loan_data[target_col].value_counts(normalize=True) * 100\n",
    "print(\"Class Distribution (%):\\n\", class_distribution)\n",
    "\n",
    "# Step 2: Plot original distribution\n",
    "sns.countplot(data=loan_data, x=target_col)\n",
    "plt.title(\"Original Class Distribution\")\n",
    "plt.savefig(\"original_distribution.png\")\n",
    "plt.clf()\n",
    "\n",
    "# Step 3: Balance data using undersampling\n",
    "class_0 = loan_data[loan_data[target_col] == 0]\n",
    "class_1 = loan_data[loan_data[target_col] == 1]\n",
    "min_size = min(len(class_0), len(class_1))\n",
    "balanced_df = pd.concat([class_0.sample(min_size), class_1.sample(min_size)])\n",
    "\n",
    "# Step 4: Encode categorical columns\n",
    "label_encoders = {}\n",
    "for col in balanced_df.select_dtypes(include='object').columns:\n",
    "    le = LabelEncoder()\n",
    "    balanced_df[col] = le.fit_transform(balanced_df[col].astype(str))\n",
    "    label_encoders[col] = le\n",
    "\n",
    "# Step 5: Prepare features and target\n",
    "X = balanced_df.drop(columns=[target_col])\n",
    "y = balanced_df[target_col]\n",
    "X = X.fillna(0)\n",
    "\n",
    "# Step 6: Split data\n",
    "X_train, X_test, y_train, y_test = train_test_split(X, y, stratify=y, test_size=0.2)\n",
    "\n",
    "# Step 7: Train model\n",
    "model = LogisticRegression(max_iter=1000)\n",
    "model.fit(X_train, y_train)\n",
    "\n",
    "# Step 8: Evaluate model\n",
    "y_pred = model.predict(X_test)\n",
    "y_proba = model.predict_proba(X_test)[:, 1]\n",
    "\n",
    "# Step 9: Sensitivity (Recall)\n",
    "conf_matrix = confusion_matrix(y_test, y_pred)\n",
    "TP = conf_matrix[1, 1]\n",
    "FN = conf_matrix[1, 0]\n",
    "sensitivity = TP / (TP + FN)\n",
    "print(f\"Sensitivity: {sensitivity:.2f}\")\n",
    "\n",
    "# Step 10: AUC\n",
    "auc = roc_auc_score(y_test, y_proba)\n",
    "print(f\"AUC Score: {auc:.2f}\")\n",
    "\n",
    "# Step 11: Plot balanced class distribution\n",
    "sns.countplot(data=balanced_df, x=target_col)\n",
    "plt.title(\"Balanced Class Distribution\")\n",
    "plt.savefig(\"balanced_distribution.png\")\n",
    "plt.clf()\n",
    "\n",
    "# Step 12: Plot ROC curve\n",
    "fpr, tpr, _ = roc_curve(y_test, y_proba)\n",
    "plt.plot(fpr, tpr, label=f\"AUC = {auc:.2f}\")\n",
    "plt.plot([0, 1], [0, 1], linestyle=\"--\")\n",
    "plt.xlabel(\"False Positive Rate\")\n",
    "plt.ylabel(\"True Positive Rate\")\n",
    "plt.title(\"ROC Curve\")\n",
    "plt.legend()\n",
    "plt.savefig(\"roc_curve.png\")\n",
    "plt.clf()\n"
   ]
  }
 ],
 "metadata": {
  "kernelspec": {
   "display_name": "Python 3",
   "language": "python",
   "name": "python3"
  },
  "language_info": {
   "codemirror_mode": {
    "name": "ipython",
    "version": 3
   },
   "file_extension": ".py",
   "mimetype": "text/x-python",
   "name": "python",
   "nbconvert_exporter": "python",
   "pygments_lexer": "ipython3",
   "version": "3.12.3"
  }
 },
 "nbformat": 4,
 "nbformat_minor": 5
}
