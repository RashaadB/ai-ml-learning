{
 "cells": [
  {
   "cell_type": "markdown",
   "id": "f992e58b",
   "metadata": {},
   "source": [
    "## Convolutional Neural Network (CNN)\n",
    "\n",
    "- is a deep learning model specifically deisigned for visual data analysis, extracting features through convolution and pooling layers to achieve high leve pattern recgnition and classification. \n",
    "\n",
    "## advantages of CNN\n",
    "\n",
    "- they automatically detect essential features without human supervision.\n",
    "- Compared to feed forward neural networks, CNNs have higher accuracy in resolving image recognition problems \n",
    "- The results are more accurate than generic machine learning techniques\n",
    "\n",
    "## CNN applications\n",
    "- detection of tools in a factory, where cnn model can be trained to detect misplaced tools by factory workers\n",
    "\n",
    "- Detection of pulmonary fibrosis, where a cnn model can be fed a large dataset of a patient's lung images to identify any scarring in lung tissues. "
   ]
  }
 ],
 "metadata": {
  "language_info": {
   "name": "python"
  }
 },
 "nbformat": 4,
 "nbformat_minor": 5
}
