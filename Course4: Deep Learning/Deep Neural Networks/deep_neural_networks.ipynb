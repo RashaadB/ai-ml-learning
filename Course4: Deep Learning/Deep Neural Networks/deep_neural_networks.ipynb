{
 "cells": [
  {
   "cell_type": "markdown",
   "id": "88ee5d33",
   "metadata": {},
   "source": [
    "## Deep Neural Network\n",
    "\n",
    "- refers to a type of artificial neural network that consists of hidden layers between the input and output layers.\n",
    "\n",
    "- Depth refers to number of hiddlen layers, which is the key factor that distinguishes deep neural networks from traditional neural networks, enabling DNNs to outperform NNs in various tasks. \n",
    "\n",
    "- DNNs offer higher accuracy and have the ability to emulate the dcision making process of the human brain more effectively\n",
    "    - Example: consider a DNN designed and trained to recognize dog breeds\n",
    "        - It canalyze an image of a daog and predict its specific breed based on probability calculations.\n",
    "        - The breed with the highest probability is usually chosen as the predicted breed. \n",
    "\n",
    "## Benefits of DNN\n",
    "- Online translation\n",
    "- Self-driving cars\n",
    "- voice assistants\n",
    "- image and voice recognition software\n",
    "- chatbots"
   ]
  },
  {
   "cell_type": "markdown",
   "id": "2e00fe7e",
   "metadata": {},
   "source": [
    "## Loss Function in DNN and Types\n",
    "- It is used to measure the discrepancy between predicted and actual values, enabling the network to learn and improve its performance during training. \n",
    "- The model being developed needs to be continually assessed for potential errors as part of the optimization process. \n",
    "\n",
    "    - example of loss function: \n",
    "\n",
    "        - Assign labels to two images: 0 to a dog and 1 to the cat\n",
    "        - classify all images of dogs and cats\n",
    "        - if the model receives an image of a dog and identifies the output as 0.25, the difference in the model's prediction and the label is: 0.25 - 0 = 0.25\n",
    "        - the difference is known as the error in the model.\n",
    "        - every output undergoes this precise process, and the error is gathered from each individual output during the learning iterations. \n",
    "\n",
    "## Loss function categories\n",
    "\n",
    "- loss functions are fundamental tools in evaluating deep learning models, and they can be categorized into Regression loss and classification loss\n",
    "\n",
    "- `Regression loss`: Neural networrk regression predicts continuous values using inputs features and a suitable loss function. the output the model is value that could be like salary of an employee\n",
    "\n",
    "    - Types of Regression Loss:\n",
    "\n",
    "        - ` Mean absolute error(MAE)`: Mean absolute error measures the average absolute difference between the predicted and actural values regression tasks. \n",
    "\n",
    "            - Mean absolute error is used as a metric to measure the average magnitude of errors between predicted and actual values in regression problems\n",
    "\n",
    "        - `Mean squared error (MSE)`: Mean squared Error measures the average squared difference between predicted and true values in regression tasks\n",
    "            - if multiple samples are passed at the same time, the mean of the squared errors over all the samles can be taken. MSE is a standard loss function that can be implemented.\n",
    "\n",
    "            - can be used when evaluating the mean squared error (MSE metric), which measures the average squared difference between the predicted and actual values.\n",
    "\n",
    "            - MSE is commonly used in backpropagation due to its empirical effectiveness in minimizing squared difference between predicted and actual values"
   ]
  }
 ],
 "metadata": {
  "language_info": {
   "name": "python"
  }
 },
 "nbformat": 4,
 "nbformat_minor": 5
}
