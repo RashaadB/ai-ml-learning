{
 "cells": [
  {
   "cell_type": "markdown",
   "metadata": {
    "id": "B7PI2SQx_jt6"
   },
   "source": [
    "# __Introduction to Tensors__\n",
    "\n",
    "Tensors are fundamental data structures in deep learning and are similar to multi-dimensional arrays. They are a generalization of vectors and matrices to higher dimensions and provide a way to represent and manipulate numerical data efficiently.\n",
    "\n",
    "Tensors can be seen as containers for numerical data that can be organized into a specific shape or size.\n",
    "\n",
    "\n",
    "- TensorFlow is an open-source, python compatible toolkit for numerical computation that accelerates and improves the creation of of neural networks and machine learning algorithms.\n",
    "- used mainly for classification, prediction, and creation of models, allowing researchers to build innovative ML models and quickly deploy applications with tools, libraries and community resources.\n",
    "\n",
    "- In tensorFlow, the data values are not stored as integers, floats, or strings but are encapsulated in an object called a tensor, if a python list is passed to TensorFlow, it will be converted into a tensor.\n",
    "\n",
    "## Features of TensorFlow\n",
    "- High level APIs\n",
    "- TensorBoard\n",
    "- Distributed computing\n",
    "- Model deployment\n",
    "- Pre-trained models\n",
    "\n",
    "- TensorFlow operates on a system of data flow graphs, which allows for efficient computation and parallel processing. It is essential for handling the heavy compute requirements for deep learning. providing a comprehensive and flexible framework for designing, training, and deploying deep learning models. \n",
    "- Python API offers flexibility to create all sorts of computations for every neural network architecture.\n",
    "- It includes highly efficient C++ implementations of many ML operations. \n",
    "\n",
    "## TensorFlow: Dataflow Graph\n",
    "- TensorFlow is a library for numerical computation, that uses datflow graphs.\n",
    "- nodes represent mathematical operations.\n",
    "- edges represent multimultidimensional data arrays(tensors) transferred between nodes in the graph. \n",
    "- uses a dataflow graph to represent computation\n",
    "- Dataflow is a common programming model for parallel computing\n",
    "- TensorFlow optimizes graph execution by rearranging operations and leveraging parallelism for efficient computation. \n",
    "\n",
    "## Categories of TensorFlow APIs\n",
    "- TensorFlow APIs can be divided into two broad groups:\n",
    "    - Low level APIs and High level APIs\n",
    "\n",
    "- Low level APIs:\n",
    "    - example: TensorFlow core\n",
    "    - it is recommended for deep learning researchers\n",
    "    - it provides finer levels of control over the models.\n",
    "\n",
    "- High level APIs:\n",
    "    - example: tf.keras, tf.estimator\n",
    "    - it makes TensorFlow easier to use, without sacrificing flexibility and performance\n",
    "    - It provides tools for building and training complex models with just a few lines of code.\n"
   ]
  },
  {
   "cell_type": "markdown",
   "metadata": {},
   "source": [
    "## TFLearn\n",
    "- TFLearn is a modular and transparent deep learning library built on TensorFlow. It provides a high level API to facilitate and speed up experiments while maintaing full transparency and compatibility with TensorFlow\n",
    "\n",
    "## Features of TFLearn\n",
    "- easy to use, understand and implement\n",
    "- fast prototyping through highly modular built in components\n",
    "- full transparency over TensorFlow\n",
    "- Powerful helper functions to train any TensorFlow graph\n",
    "- Easy and clear graph visualization\n",
    "- Efforless device placement for utilizing multiple CPUs and GPUs\n",
    "\n",
    "## TFLearn workflow for APIs\n",
    "1. create an input layer \n",
    "2. Pass the input object to create further layers\n",
    "3. Add an output layer\n",
    "4. Configure the model\n",
    "5. Initialize the model\n",
    "6. Train the model with the model.fit() method\n",
    "7. Use the train model to predict or evaluate\n",
    "\n",
    "## TFLearn training\n",
    "- Training functions are another feature of TFLearn. TensorFlow has no prebuilt APIs to train a network, TFLearn integrates a set of functions that can easily handle any neural network training, for any number of inputs, outputs, and optimizers\n",
    "\n",
    "- in TFLearn, the terms called trainer,evaluator, and predictor refer to specific roles or functionalities within the framework that handles different aspects of working with neural networks\n",
    "    - Any TensorFlow graph can be trained using the helpers functions \n",
    "    - By introducing real tie monitoring, batch sampling, moving averages, TensorBoard logs, and other data input methods, it is possible to enhance the convenience of the training process. \n",
    "    - It accepts any quantity of inputs,outputs, and optimization operations. \n"
   ]
  },
  {
   "cell_type": "markdown",
   "metadata": {},
   "source": [
    "## Keras\n",
    "- High level neural network API, written in python.\n",
    "- powerful usecase for developing and evaluating deep learning models\n",
    "- Runs seamlessly on CPU and GPU\n",
    "- Keras is closely tied to the TensorFlow library and acts as an interface for it.\n",
    "    - It allows users to define and train nueral networks models with few lines of code. \n",
    "\n",
    "- Keras is a high-level deep learning API that simplifies the process of building and training neural networks models, providing a user friendly interface and extensive support for various deep learning tasks. \n",
    "\n",
    "## Sequential and Functional API in Keras\n",
    "- Keras framework provides two priamry ways to build models: Sequential API and Functional API\n",
    "\n",
    "- Sequential API: is the simpler of the two and is best suited for models that have a single input tensor and output tensor. It allows to create models layer by layer in a linear stack. \n",
    "\n",
    "- Functional API: It is more flexible and powerful, allowing the creation of complex models, such as multi-input or multi-output models, models with shared layers, and models with non-sequential data flows. \n",
    "\n",
    "## Creating a Keras Model\n",
    "1. inport the required libraries and load the dataset\n",
    "2. Assign number of layers, number of nodes in the layers, and the activation function to be used\n",
    "3. compile the loss function and evaluate a set of weights\n",
    "4. Fit the model using backpropagation and weight optimization with input data\n",
    "5. Evaluate the model's performance on a separate validation dataset\n",
    "6. Predict the output with the prepared model  "
   ]
  },
  {
   "cell_type": "markdown",
   "metadata": {
    "id": "GBtOK10kGJ5w"
   },
   "source": [
    "\n",
    "## Steps to be followed:\n",
    "1. Import the required libraries\n",
    "2. Create the rank zero Tensor\n",
    "3. Create the rank one Tensor\n",
    "4. Create the rank two Tensor\n",
    "5. Create the rank three Tensor\n",
    "6. Convert a Tensor to a NumPy array\n",
    "7. Perform basic mathematics with Tensors\n",
    "8. Initialize the Tensor\n",
    "9. Broadcast the x and y variables"
   ]
  },
  {
   "cell_type": "markdown",
   "metadata": {
    "id": "isZckyAI9bz7"
   },
   "source": [
    "### Step 1: Import the required libraries\n",
    "\n",
    "- Import two libraries, TensorFlow and NumPy.\n",
    "- TensorFlow is a popular open-source machine learning framework that provides a set of tools and functionalities for building and training machine learning models.\n",
    "- NumPy is a Python library for numerical computations that provide support for handling multi-dimensional arrays and mathematical operations on them."
   ]
  },
  {
   "cell_type": "code",
   "execution_count": 3,
   "metadata": {},
   "outputs": [],
   "source": [
    "# Disable oneDNN optimizations to avoid potential minor numerical differences caused by floating-point round-off errors.\n",
    "import os\n",
    "os.environ['TF_ENABLE_ONEDNN_OPTS'] = '0'"
   ]
  },
  {
   "cell_type": "code",
   "execution_count": 4,
   "metadata": {
    "executionInfo": {
     "elapsed": 11282,
     "status": "ok",
     "timestamp": 1719078974360,
     "user": {
      "displayName": "Aleena Raj",
      "userId": "16635257578699511263"
     },
     "user_tz": -330
    },
    "id": "ach49P7l_juE"
   },
   "outputs": [],
   "source": [
    "# Import TensorFlow and NumPy libraries\n",
    "import tensorflow as tf\n",
    "import numpy as np"
   ]
  },
  {
   "cell_type": "markdown",
   "metadata": {
    "id": "CYnY3-Y19k1J"
   },
   "source": [
    "### Step 2: Create the rank zero Tensor\n",
    "- The rank is also known as order, degree, or ndims.\n",
    "- The **tf.constant(4)** creates a constant Tensor with a single value of **4**.\n",
    "- The **tf.constant()** function is used to create Tensors with fixed values that cannot be changed.\n",
    "- The **rank_0_tensor** variable holds the created Tensor.\n",
    "- The **print(rank_0_tensor)** prints the value of the Tensor, which,  in this case, is __4__."
   ]
  },
  {
   "cell_type": "code",
   "execution_count": 2,
   "metadata": {
    "colab": {
     "base_uri": "https://localhost:8080/"
    },
    "executionInfo": {
     "elapsed": 446,
     "status": "ok",
     "timestamp": 1719079007756,
     "user": {
      "displayName": "Aleena Raj",
      "userId": "16635257578699511263"
     },
     "user_tz": -330
    },
    "id": "HyyOZlU1_juG",
    "outputId": "c14e35de-cc1b-4e26-89cc-151b1f57fcd9"
   },
   "outputs": [
    {
     "name": "stdout",
     "output_type": "stream",
     "text": [
      "tf.Tensor(4, shape=(), dtype=int32)\n"
     ]
    }
   ],
   "source": [
    "# Create a rank 0 tensor (scalar) with a constant value of 4\n",
    "rank_0_tensor = tf.constant(4)\n",
    "# Print the rank 0 tensor\n",
    "print(rank_0_tensor)"
   ]
  },
  {
   "cell_type": "markdown",
   "metadata": {
    "id": "j1JI6EXlAZXy"
   },
   "source": [
    "**Observation:**\n",
    "\n",
    "- As seen above, the output represents a TensorFlow Tensor object with a value of 4, an empty shape, and an **int32** data type."
   ]
  },
  {
   "cell_type": "markdown",
   "metadata": {
    "id": "2afvyRhV-Oo6"
   },
   "source": [
    "### Step 3: Create the rank one Tensor\n",
    "- Define a rank one Tensor in TensorFlow with the values **[2.0, 4.0, 5.0]** and print the Tensor object."
   ]
  },
  {
   "cell_type": "code",
   "execution_count": 3,
   "metadata": {
    "colab": {
     "base_uri": "https://localhost:8080/"
    },
    "executionInfo": {
     "elapsed": 648,
     "status": "ok",
     "timestamp": 1719079064770,
     "user": {
      "displayName": "Aleena Raj",
      "userId": "16635257578699511263"
     },
     "user_tz": -330
    },
    "id": "wa5FzllE_juI",
    "outputId": "38cd6fc7-b90b-460d-d35d-48cd62641049"
   },
   "outputs": [
    {
     "name": "stdout",
     "output_type": "stream",
     "text": [
      "tf.Tensor([2. 4. 5.], shape=(3,), dtype=float32)\n"
     ]
    }
   ],
   "source": [
    "# Create a rank 1 tensor (vector) with values [2.0, 4.0, 5.0]\n",
    "rank_1_tensor = tf.constant([2.0, 4.0, 5.0])\n",
    "# Print the rank 1 tensor\n",
    "print(rank_1_tensor)"
   ]
  },
  {
   "cell_type": "markdown",
   "metadata": {
    "id": "rSQrZqmR-l9q"
   },
   "source": [
    "**Observations:**\n",
    "\n",
    "- As seen above, the output represents a one-dimensional Tensor with three elements: **2.0**, **4.0**, and **5.0**.\n",
    "- The shape of the Tensor is **(3, ),** indicating that it has a size of 3 along the first dimension.\n",
    "- The dtype of the Tensor is **float32**, indicating that the elements are of type float."
   ]
  },
  {
   "cell_type": "markdown",
   "metadata": {
    "id": "g25g1XP_An3y"
   },
   "source": [
    "### Step 4: Create the rank two Tensor\n",
    "- Create a rank two Tensor, which is a two-dimensional array, using the **tf.constant** function.\n",
    "- The Tensor has a shape of (3, 2), meaning it has three rows and two columns, and the elements of the Tensor are specified as [1, 2], [3, 4], and [5, 6]."
   ]
  },
  {
   "cell_type": "code",
   "execution_count": 4,
   "metadata": {
    "colab": {
     "base_uri": "https://localhost:8080/"
    },
    "executionInfo": {
     "elapsed": 411,
     "status": "ok",
     "timestamp": 1719079089296,
     "user": {
      "displayName": "Aleena Raj",
      "userId": "16635257578699511263"
     },
     "user_tz": -330
    },
    "id": "RhM6gM6G_juJ",
    "outputId": "78908e70-7148-416a-e67e-ed28ce132646"
   },
   "outputs": [
    {
     "name": "stdout",
     "output_type": "stream",
     "text": [
      "tf.Tensor(\n",
      "[[1. 2.]\n",
      " [3. 4.]\n",
      " [5. 6.]], shape=(3, 2), dtype=float16)\n"
     ]
    }
   ],
   "source": [
    "# Create a rank 2 tensor (matrix) with shape (3, 2) and specified values\n",
    "rank_2_tensor = tf.constant([[1, 2],\n",
    "                             [3, 4],\n",
    "                             [5, 6]], dtype=tf.float16)\n",
    "# Print the rank 2 tensor\n",
    "print(rank_2_tensor)"
   ]
  },
  {
   "cell_type": "markdown",
   "metadata": {
    "id": "a8JbUi77CaED"
   },
   "source": [
    "**Observations:**\n",
    "\n",
    "- The output represents a rank two Tensor with a shape of (3, 2) and a dtype of float16. The Tensor contains the following elements arranged in a 3x2 matrix, as seen above.\n",
    "- Each element of the Tensor is a floating-point number with a precision of 16 bits."
   ]
  },
  {
   "cell_type": "markdown",
   "metadata": {
    "id": "OnXyU9HtClH8"
   },
   "source": [
    "### Step 5: Create the rank three Tensor\n",
    "\n",
    "- Define a rank three Tensor with a shape of (3, 2, 5), indicating three layers, each containing two rows and five columns.\n",
    "- The Tensor represents a 3D array of integers, where each element corresponds to a specific position within the layers, rows, and columns.\n",
    "- The values increase sequentially from __0__ to __29__, arranged in a structured pattern within the Tensor.\n",
    "\n"
   ]
  },
  {
   "cell_type": "code",
   "execution_count": 5,
   "metadata": {
    "colab": {
     "base_uri": "https://localhost:8080/"
    },
    "executionInfo": {
     "elapsed": 453,
     "status": "ok",
     "timestamp": 1719079113635,
     "user": {
      "displayName": "Aleena Raj",
      "userId": "16635257578699511263"
     },
     "user_tz": -330
    },
    "id": "170HM4-o_juK",
    "outputId": "5f588455-6157-4a03-e12e-01c3d3f9361a"
   },
   "outputs": [
    {
     "name": "stdout",
     "output_type": "stream",
     "text": [
      "tf.Tensor(\n",
      "[[[ 0  1  2  3  4]\n",
      "  [ 5  6  7  8  9]]\n",
      "\n",
      " [[10 11 12 13 14]\n",
      "  [15 16 17 18 19]]\n",
      "\n",
      " [[20 21 22 23 24]\n",
      "  [25 26 27 28 29]]], shape=(3, 2, 5), dtype=int32)\n"
     ]
    }
   ],
   "source": [
    "# Create a rank 3 tensor with shape (3, 2, 5) and sequential values from 0 to 29\n",
    "rank_3_tensor = tf.constant([\n",
    "  [[0, 1, 2, 3, 4],\n",
    "   [5, 6, 7, 8, 9]],\n",
    "  [[10, 11, 12, 13, 14],\n",
    "   [15, 16, 17, 18, 19]],\n",
    "  [[20, 21, 22, 23, 24],\n",
    "   [25, 26, 27, 28, 29]],])\n",
    "# Print the rank 3 tensor\n",
    "print(rank_3_tensor)"
   ]
  },
  {
   "cell_type": "markdown",
   "metadata": {
    "id": "ieyDUIv2C10S"
   },
   "source": [
    "**Observations:**\n",
    "- The output represents a rank three Tensor with a shape of (3, 2, 5) and a data type of int32.\n",
    "- It contains three layers, each consisting of two rows and five columns, with integer values ranging from 0 to 29 arranged in a structured pattern within the Tensor."
   ]
  },
  {
   "cell_type": "markdown",
   "metadata": {
    "id": "POSaM8a6DMlW"
   },
   "source": [
    "### Step 6: Convert a Tensor to a NumPy array\n",
    "\n",
    "- Convert the rank two array present here to a NumPy array.\n",
    "- The Tensors often contain float datatype."
   ]
  },
  {
   "cell_type": "code",
   "execution_count": 6,
   "metadata": {
    "colab": {
     "base_uri": "https://localhost:8080/"
    },
    "executionInfo": {
     "elapsed": 427,
     "status": "ok",
     "timestamp": 1719079136644,
     "user": {
      "displayName": "Aleena Raj",
      "userId": "16635257578699511263"
     },
     "user_tz": -330
    },
    "id": "xIPTAmNK_juM",
    "outputId": "0f572c47-19e8-4fa5-b6c5-b1255b5cca72"
   },
   "outputs": [
    {
     "data": {
      "text/plain": [
       "array([[1., 2.],\n",
       "       [3., 4.],\n",
       "       [5., 6.]], dtype=float16)"
      ]
     },
     "execution_count": 6,
     "metadata": {},
     "output_type": "execute_result"
    }
   ],
   "source": [
    "# Convert the rank 2 tensor to a NumPy array\n",
    "rank_2_tensor.numpy()"
   ]
  },
  {
   "cell_type": "markdown",
   "metadata": {
    "id": "CEYmU37bHsyW"
   },
   "source": [
    "**Observations:**\n",
    "- The output represents a two-dimensional array (matrix) with a shape of (3, 2) and a data type of float16.\n",
    "- It contains floating-point values ranging from 1.0 to 6.0, organized in three rows and two columns."
   ]
  },
  {
   "cell_type": "markdown",
   "metadata": {
    "id": "XTbYDaW1_juP"
   },
   "source": [
    "### Step 7: Perform basic mathematics on Tensors\n",
    "- Declare two variables **a** and **b**.\n",
    "- The **tf.add(a, b)** operation performs element-wise addition between Tensors a and b.\n",
    "- The **tf.multiply(a, b)** operation performs element-wise multiplication between Tensors a and b.\n",
    "- The **tf.matmul(a, b)** operation performs matrix multiplication between Tensors a and b.\n"
   ]
  },
  {
   "cell_type": "code",
   "execution_count": 7,
   "metadata": {
    "colab": {
     "base_uri": "https://localhost:8080/"
    },
    "executionInfo": {
     "elapsed": 439,
     "status": "ok",
     "timestamp": 1719079170450,
     "user": {
      "displayName": "Aleena Raj",
      "userId": "16635257578699511263"
     },
     "user_tz": -330
    },
    "id": "ny7yq2tC_juP",
    "outputId": "980218a1-4b89-4aa0-e8c1-33368b770309"
   },
   "outputs": [
    {
     "name": "stdout",
     "output_type": "stream",
     "text": [
      "tf.Tensor(\n",
      "[[2 3]\n",
      " [4 5]], shape=(2, 2), dtype=int32) \n",
      "\n",
      "tf.Tensor(\n",
      "[[1 2]\n",
      " [3 4]], shape=(2, 2), dtype=int32) \n",
      "\n",
      "tf.Tensor(\n",
      "[[3 3]\n",
      " [7 7]], shape=(2, 2), dtype=int32) \n",
      "\n"
     ]
    }
   ],
   "source": [
    "# Declare two 2x2 tensors a and b\n",
    "a = tf.constant([[1, 2],\n",
    "                 [3, 4]])\n",
    "b = tf.constant([[1, 1],\n",
    "                 [1, 1]])\n",
    "\n",
    "# Perform element-wise addition\n",
    "print(tf.add(a, b), \"\\n\")\n",
    "# Perform element-wise multiplication\n",
    "print(tf.multiply(a, b), \"\\n\")\n",
    "# Perform matrix multiplication\n",
    "print(tf.matmul(a, b), \"\\n\")"
   ]
  },
  {
   "cell_type": "markdown",
   "metadata": {
    "id": "jhqr79suIiKq"
   },
   "source": [
    "**Observations:**\n",
    "- Tensors perform element-wise addition and multiplication.\n",
    "- The given output consists of three TensorFlow Tensors, each representing a 2x2 matrix with integer values."
   ]
  },
  {
   "cell_type": "markdown",
   "metadata": {
    "id": "cm8YPfeSJG8e"
   },
   "source": [
    "  ### Step 8: Initialize the Tensor\n",
    "\n",
    "  - The **tf.reduce_max(c)** calculates the maximum value in Tensor c.\n",
    "  - The **tf.math.argmax(c)** returns the index of the maximum value in Tensor c.\n",
    "  - The **tf.nn.softmax(c)** applies the softmax activation function to Tensor c, which computes the probability distribution over the elements of c.\n"
   ]
  },
  {
   "cell_type": "code",
   "execution_count": 9,
   "metadata": {
    "colab": {
     "base_uri": "https://localhost:8080/"
    },
    "executionInfo": {
     "elapsed": 672,
     "status": "ok",
     "timestamp": 1719079232432,
     "user": {
      "displayName": "Aleena Raj",
      "userId": "16635257578699511263"
     },
     "user_tz": -330
    },
    "id": "Tw2QlcIo_juR",
    "outputId": "1d6c8663-9e1e-42e3-d4cd-eb953ab1b3d7"
   },
   "outputs": [
    {
     "name": "stdout",
     "output_type": "stream",
     "text": [
      "tf.Tensor(10.0, shape=(), dtype=float32)\n",
      "tf.Tensor([1 0], shape=(2,), dtype=int64)\n",
      "tf.Tensor(\n",
      "[[2.6894143e-01 7.3105860e-01]\n",
      " [9.9987662e-01 1.2339458e-04]], shape=(2, 2), dtype=float32)\n"
     ]
    }
   ],
   "source": [
    "# Initialize a tensor c with specified values\n",
    "c = tf.constant([[4.0, 5.0], [10.0, 1.0]])\n",
    "# Calculate the maximum value in tensor c\n",
    "print(tf.reduce_max(c))\n",
    "# Find the index of the maximum value in tensor c\n",
    "print(tf.math.argmax(c))\n",
    "# Apply the softmax function to tensor c\n",
    "print(tf.nn.softmax(c))"
   ]
  },
  {
   "cell_type": "markdown",
   "metadata": {
    "id": "Y4cvG_bjKElL"
   },
   "source": [
    "**Observation:**\n",
    "- It calculates the maximum value in Tensor c, finds the indices of the maximum values, and applies the softmax function to obtain a probability distribution Tensor."
   ]
  },
  {
   "cell_type": "markdown",
   "metadata": {
    "id": "HGITiYMuKhSK"
   },
   "source": [
    "### Step 9: Broadcast the X and Y variables\n",
    "- Broadcast the two variables **x** and **y**.\n",
    "- Smaller Tensors are stretched automatically to fit larger Tensors.\n",
    "- All of these are the same computation.\n",
    "- Perform element-wise multiplication between Tensors x and a scalar value of 2, between Tensors x and scalar y, and between Tensors x and Tensors z."
   ]
  },
  {
   "cell_type": "code",
   "execution_count": 10,
   "metadata": {
    "colab": {
     "base_uri": "https://localhost:8080/"
    },
    "executionInfo": {
     "elapsed": 632,
     "status": "ok",
     "timestamp": 1719079599226,
     "user": {
      "displayName": "Aleena Raj",
      "userId": "16635257578699511263"
     },
     "user_tz": -330
    },
    "id": "vb-uT7Nt_juS",
    "outputId": "25de7fca-46e7-46bd-8898-589b2643ec5d"
   },
   "outputs": [
    {
     "name": "stdout",
     "output_type": "stream",
     "text": [
      "tf.Tensor([2 4 6], shape=(3,), dtype=int32)\n",
      "tf.Tensor([2 4 6], shape=(3,), dtype=int32)\n",
      "tf.Tensor([2 4 6], shape=(3,), dtype=int32)\n"
     ]
    }
   ],
   "source": [
    "# Declare a 1x3 tensor x\n",
    "x = tf.constant([1, 2, 3])\n",
    "\n",
    "# Declare scalar and 1x3 tensor for broadcasting\n",
    "y = tf.constant(2)\n",
    "z = tf.constant([2, 2, 2])\n",
    "\n",
    "# Perform element-wise multiplication with scalar\n",
    "print(tf.multiply(x, 2))\n",
    "# Perform element-wise multiplication with another scalar\n",
    "print(x * y)\n",
    "# Perform element-wise multiplication with another tensor\n",
    "print(x * z)"
   ]
  },
  {
   "cell_type": "markdown",
   "metadata": {
    "id": "rcdFpRN1LQKL"
   },
   "source": [
    "**Observations:**\n",
    "\n",
    "- We can see that even though the shape of y is not the same as that of x, we can still multiply these two variables.\n",
    "- So, this is an example of broadcasting, where smaller Tensors are stretched automatically to fit larger Tensors."
   ]
  },
  {
   "cell_type": "markdown",
   "metadata": {
    "id": "uW239xULLngI"
   },
   "source": [
    "#### Reshaping Tensors"
   ]
  },
  {
   "cell_type": "code",
   "execution_count": 11,
   "metadata": {
    "colab": {
     "base_uri": "https://localhost:8080/"
    },
    "executionInfo": {
     "elapsed": 493,
     "status": "ok",
     "timestamp": 1719079685310,
     "user": {
      "displayName": "Aleena Raj",
      "userId": "16635257578699511263"
     },
     "user_tz": -330
    },
    "id": "FStcPcKn_juT",
    "outputId": "8693022b-70fa-45c8-8ec0-ea22cb9fe65c"
   },
   "outputs": [
    {
     "name": "stdout",
     "output_type": "stream",
     "text": [
      "(3, 1)\n"
     ]
    }
   ],
   "source": [
    "# Create a tensor x with shape (3, 1)\n",
    "x = tf.constant([[1], [2], [3]])\n",
    "# Print the shape of the tensor x\n",
    "print(x.shape)"
   ]
  },
  {
   "cell_type": "markdown",
   "metadata": {
    "id": "sf3hx84WMC5w"
   },
   "source": [
    "**Observation:**\n",
    "- The `shape` function returns a tensor-shaped object that shows the size along each axis."
   ]
  },
  {
   "cell_type": "code",
   "execution_count": 12,
   "metadata": {
    "executionInfo": {
     "elapsed": 4,
     "status": "ok",
     "timestamp": 1719079688025,
     "user": {
      "displayName": "Aleena Raj",
      "userId": "16635257578699511263"
     },
     "user_tz": -330
    },
    "id": "Gm40OfVM_juU"
   },
   "outputs": [],
   "source": [
    "reshaped = tf.reshape(x , [1,3])"
   ]
  },
  {
   "cell_type": "code",
   "execution_count": 13,
   "metadata": {
    "colab": {
     "base_uri": "https://localhost:8080/"
    },
    "executionInfo": {
     "elapsed": 431,
     "status": "ok",
     "timestamp": 1719079692210,
     "user": {
      "displayName": "Aleena Raj",
      "userId": "16635257578699511263"
     },
     "user_tz": -330
    },
    "id": "d6SJVa9A_juV",
    "outputId": "f3a99e81-09ab-429f-b602-306007c438a3"
   },
   "outputs": [
    {
     "name": "stdout",
     "output_type": "stream",
     "text": [
      "(3, 1)\n",
      "(1, 3)\n"
     ]
    }
   ],
   "source": [
    "# Print the shapes of the original and reshaped tensors\n",
    "print(x.shape)\n",
    "print(reshaped.shape)"
   ]
  },
  {
   "cell_type": "markdown",
   "metadata": {
    "id": "ObLFSB66MqbC"
   },
   "source": [
    "**Observation:**\n",
    "- The Tensor has been reshaped to the desired dimensions, providing the intended configuration."
   ]
  },
  {
   "cell_type": "markdown",
   "metadata": {
    "id": "Q9oKHndBM7HV"
   },
   "source": [
    "#### Different Types of Tensors\n",
    "- **Ragged Tensor**: Tensor with the variable number of\n",
    "elements along some axes is called Ragged Tensor."
   ]
  },
  {
   "cell_type": "code",
   "execution_count": 14,
   "metadata": {
    "colab": {
     "base_uri": "https://localhost:8080/"
    },
    "executionInfo": {
     "elapsed": 426,
     "status": "ok",
     "timestamp": 1719079694793,
     "user": {
      "displayName": "Aleena Raj",
      "userId": "16635257578699511263"
     },
     "user_tz": -330
    },
    "id": "dctGbtQB_juW",
    "outputId": "6bad58f7-b881-4159-af7a-a0364abf9f7a"
   },
   "outputs": [
    {
     "name": "stdout",
     "output_type": "stream",
     "text": [
      "<tf.RaggedTensor [[0, 1, 2, 3], [4, 5], [6, 7, 8], [9]]>\n"
     ]
    }
   ],
   "source": [
    "# Create a ragged tensor with a variable number of elements along some axes\n",
    "ragged_list = [\n",
    "    [0,1,2,3],\n",
    "    [4,5],\n",
    "    [6,7,8],\n",
    "    [9]]\n",
    "\n",
    "ragged_tensor = tf.ragged.constant(ragged_list)\n",
    "print(ragged_tensor)"
   ]
  },
  {
   "cell_type": "markdown",
   "metadata": {
    "id": "exVngalDNdw7"
   },
   "source": [
    "- **Scalar String Tensor**: It is a datatype, which means that data can be represented as strings (variable-length byte arrays) in Tensors."
   ]
  },
  {
   "cell_type": "code",
   "execution_count": 15,
   "metadata": {
    "colab": {
     "base_uri": "https://localhost:8080/"
    },
    "executionInfo": {
     "elapsed": 5,
     "status": "ok",
     "timestamp": 1719079697549,
     "user": {
      "displayName": "Aleena Raj",
      "userId": "16635257578699511263"
     },
     "user_tz": -330
    },
    "id": "vSgI8dbk_juW",
    "outputId": "2bd6a810-8ae8-4947-cae9-6b83bb4f5c81"
   },
   "outputs": [
    {
     "name": "stdout",
     "output_type": "stream",
     "text": [
      "tf.Tensor(b'gray wolf', shape=(), dtype=string)\n"
     ]
    }
   ],
   "source": [
    "# Create a scalar string tensor\n",
    "scalar_string_tensor = tf.constant(\"gray wolf\")\n",
    "# Print the scalar string tensor\n",
    "print(scalar_string_tensor)"
   ]
  },
  {
   "cell_type": "markdown",
   "metadata": {
    "id": "iyrBuV0uOSRn"
   },
   "source": [
    "**Observation**\n",
    "- We can represent\n",
    "the strings as Tensors.\n"
   ]
  }
 ],
 "metadata": {
  "colab": {
   "provenance": []
  },
  "kernelspec": {
   "display_name": "Python 3 [3.10]",
   "language": "python",
   "name": "python3"
  },
  "language_info": {
   "codemirror_mode": {
    "name": "ipython",
    "version": 3
   },
   "file_extension": ".py",
   "mimetype": "text/x-python",
   "name": "python",
   "nbconvert_exporter": "python",
   "pygments_lexer": "ipython3",
   "version": "3.10.2"
  }
 },
 "nbformat": 4,
 "nbformat_minor": 4
}
